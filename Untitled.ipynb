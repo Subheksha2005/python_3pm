{
 "cells": [
  {
   "cell_type": "code",
   "execution_count": 4,
   "id": "11d9dea8",
   "metadata": {},
   "outputs": [
    {
     "name": "stdout",
     "output_type": "stream",
     "text": [
      "16.5\n"
     ]
    }
   ],
   "source": [
    "a=12\n",
    "b=4.5\n",
    "print(a+b)"
   ]
  },
  {
   "cell_type": "code",
   "execution_count": 8,
   "id": "45cf953c",
   "metadata": {},
   "outputs": [
    {
     "name": "stdout",
     "output_type": "stream",
     "text": [
      "hello world\n",
      "\n"
     ]
    }
   ],
   "source": [
    "a=\"hello world\\n\"\n",
    "print(a)"
   ]
  },
  {
   "cell_type": "code",
   "execution_count": 1,
   "id": "22341f88",
   "metadata": {},
   "outputs": [
    {
     "name": "stdout",
     "output_type": "stream",
     "text": [
      "enter x=2\n",
      "the no is positive and even\n"
     ]
    }
   ],
   "source": [
    "x=int(input(\"enter x=\"))\n",
    "if x>0 and x%2==0:\n",
    "    print(\"the no is positive and even\")\n",
    "elif x>0 and x%2!=0:\n",
    "    print(\"the no is positive and odd\")\n",
    "elif x<0 and x%2==0:\n",
    "    print(\"the no is negative and even\")\n",
    "else:\n",
    "    print(\"the no is negative and odd\")"
   ]
  },
  {
   "cell_type": "code",
   "execution_count": 2,
   "id": "d5b74646",
   "metadata": {},
   "outputs": [
    {
     "name": "stdout",
     "output_type": "stream",
     "text": [
      "0 HELLO SUBHEKSHA\n",
      "1 HELLO SUBHEKSHA\n",
      "2 HELLO SUBHEKSHA\n",
      "3 HELLO SUBHEKSHA\n",
      "4 HELLO SUBHEKSHA\n"
     ]
    }
   ],
   "source": [
    "for i in range(5):\n",
    "    print(i,\"HELLO SUBHEKSHA\")\n"
   ]
  },
  {
   "cell_type": "code",
   "execution_count": 3,
   "id": "c31ad9ff",
   "metadata": {},
   "outputs": [
    {
     "name": "stdout",
     "output_type": "stream",
     "text": [
      "1 HELLO SUBHEKSHA\n",
      "2 HELLO SUBHEKSHA\n",
      "3 HELLO SUBHEKSHA\n",
      "4 HELLO SUBHEKSHA\n"
     ]
    }
   ],
   "source": [
    "for i in range(1,5):\n",
    "    print(i,\"HELLO SUBHEKSHA\")"
   ]
  },
  {
   "cell_type": "code",
   "execution_count": 4,
   "id": "718f48f7",
   "metadata": {},
   "outputs": [
    {
     "name": "stdout",
     "output_type": "stream",
     "text": [
      "5 HELLO SUBHEKSHA\n",
      "4 HELLO SUBHEKSHA\n",
      "3 HELLO SUBHEKSHA\n",
      "2 HELLO SUBHEKSHA\n",
      "1 HELLO SUBHEKSHA\n"
     ]
    }
   ],
   "source": [
    "for i in range(5,0,-1):\n",
    "    print(i,\"HELLO SUBHEKSHA\")"
   ]
  },
  {
   "cell_type": "code",
   "execution_count": 5,
   "id": "3e588d7d",
   "metadata": {},
   "outputs": [
    {
     "name": "stdout",
     "output_type": "stream",
     "text": [
      "6 HELLO SUBBU\n",
      "5 HELLO SUBBU\n",
      "4 HELLO SUBBU\n",
      "3 HELLO SUBBU\n",
      "2 HELLO SUBBU\n",
      "1 HELLO SUBBU\n",
      "0 HELLO SUBBU\n"
     ]
    }
   ],
   "source": [
    "for i in range(6,-1,-1):\n",
    "    print(i,\"HELLO SUBBU\")"
   ]
  },
  {
   "cell_type": "code",
   "execution_count": 10,
   "id": "8f238246",
   "metadata": {},
   "outputs": [
    {
     "name": "stdout",
     "output_type": "stream",
     "text": [
      "enter n=4\n",
      "4 * 1 = 4\n",
      "4 * 2 = 8\n",
      "4 * 3 = 12\n",
      "4 * 4 = 16\n",
      "4 * 5 = 20\n",
      "4 * 6 = 24\n",
      "4 * 7 = 28\n",
      "4 * 8 = 32\n",
      "4 * 9 = 36\n",
      "4 * 10 = 40\n"
     ]
    }
   ],
   "source": [
    "n=int(input(\"enter n=\"))\n",
    "for i in range(1,11):\n",
    "    print(n,\"*\",i,\"=\",n*i)"
   ]
  },
  {
   "cell_type": "code",
   "execution_count": 12,
   "id": "ecec6a34",
   "metadata": {},
   "outputs": [
    {
     "name": "stdout",
     "output_type": "stream",
     "text": [
      "enter x=4\n",
      "you entered 4\n",
      "enter x=5\n",
      "you entered 5\n",
      "enter x=6\n",
      "you entered 6\n",
      "enter x=7\n",
      "you entered 7\n",
      "enter x= 0\n",
      "you entered 0\n"
     ]
    }
   ],
   "source": [
    "for i in range(5):\n",
    "    x=int(input(\"enter x=\"))\n",
    "    print(\"you entered\",x)\n",
    "     "
   ]
  },
  {
   "cell_type": "code",
   "execution_count": null,
   "id": "19342768",
   "metadata": {},
   "outputs": [],
   "source": [
    "s=\"\"\n",
    "n=int(input(\"enter n=\"))\n",
    "for i in range(n):\n",
    "    x=input(\"enter x=\")\n",
    "    s=s+x+\"\\n\"                          \n",
    "print(s)"
   ]
  },
  {
   "cell_type": "code",
   "execution_count": 1,
   "id": "695583c6",
   "metadata": {},
   "outputs": [
    {
     "name": "stdout",
     "output_type": "stream",
     "text": [
      "enter n=1\n",
      "enter name=uhduiew\n",
      "enter phone=7585\n",
      "uhduiew 7585\n",
      "\n"
     ]
    }
   ],
   "source": [
    "s=\"\"\n",
    "n=int(input(\"enter n=\"))\n",
    "for i in range(n):\n",
    "    name=input(\"enter name=\")\n",
    "    phone=input(\"enter phone=\")\n",
    "    s=s+name+\" \"+phone+\"\\n\"\n",
    "print(s)"
   ]
  },
  {
   "cell_type": "code",
   "execution_count": 6,
   "id": "13f41a50",
   "metadata": {},
   "outputs": [
    {
     "name": "stdout",
     "output_type": "stream",
     "text": [
      "5 hello subbu\n",
      "4 hello subbu\n",
      "3 hello subbu\n",
      "2 hello subbu\n",
      "1 hello subbu\n",
      "0 hello subbu\n"
     ]
    }
   ],
   "source": [
    "for i in range(5,-1,-1):\n",
    "    print(i,\"hello subbu\")"
   ]
  },
  {
   "cell_type": "code",
   "execution_count": 11,
   "id": "dfc0868a",
   "metadata": {},
   "outputs": [
    {
     "name": "stdout",
     "output_type": "stream",
     "text": [
      "enter n=2\n",
      "enter name=dfth\n",
      "enter phone=4356\n",
      "enter name=gttr\n",
      "enter phone=34567\n",
      "dfth 4356\n",
      "gttr 34567\n",
      "\n"
     ]
    }
   ],
   "source": [
    "s=\"\"\n",
    "n=int(input(\"enter n=\"))\n",
    "for i in range(n):\n",
    "    name=input(\"enter name=\")\n",
    "    phone=input(\"enter phone=\")\n",
    "    s=s+name+\" \"+phone+\"\\n\"\n",
    "print(s)\n"
   ]
  },
  {
   "cell_type": "code",
   "execution_count": 23,
   "id": "88d52224",
   "metadata": {},
   "outputs": [
    {
     "name": "stdout",
     "output_type": "stream",
     "text": [
      "enter x=2\n",
      "you entered 2\n",
      "you entered 2\n",
      "you entered 2\n",
      "you entered 2\n",
      "you entered 2\n"
     ]
    }
   ],
   "source": [
    "x=int(input(\"enter x=\"))\n",
    "for i in range(n):\n",
    "    print(\"you entered\",x)\n",
    "    \n",
    "    \n",
    "    \n",
    "    "
   ]
  },
  {
   "cell_type": "code",
   "execution_count": 26,
   "id": "d2fd5b6f",
   "metadata": {},
   "outputs": [
    {
     "name": "stdout",
     "output_type": "stream",
     "text": [
      "enter n=3\n",
      "enter x=1\n",
      "enter x=2\n",
      "enter x=2\n",
      "5\n"
     ]
    }
   ],
   "source": [
    "s=0\n",
    "n=int(input(\"enter n=\"))\n",
    "for i in range(n):\n",
    "    x=int(input(\"enter x=\"))\n",
    "    s=s+x\n",
    "print(s)"
   ]
  },
  {
   "cell_type": "code",
   "execution_count": 39,
   "id": "d9031160",
   "metadata": {},
   "outputs": [
    {
     "name": "stdout",
     "output_type": "stream",
     "text": [
      "enter n=3\n",
      "enter x=2\n",
      "enter x=4\n",
      "enter x=5\n",
      "2\n",
      "4\n",
      "5\n",
      "\n"
     ]
    }
   ],
   "source": [
    "s=\"\"\n",
    "n=int(input(\"enter n=\"))\n",
    "for i in range(n):\n",
    "    x=input(\"enter x=\")\n",
    "    s=s+x+\"\\n\"\n",
    "    \n",
    "print(s)"
   ]
  },
  {
   "cell_type": "code",
   "execution_count": 40,
   "id": "515d1f06",
   "metadata": {},
   "outputs": [
    {
     "name": "stdout",
     "output_type": "stream",
     "text": [
      "H hello world\n",
      "e hello world\n",
      "l hello world\n",
      "l hello world\n",
      "o hello world\n",
      "  hello world\n",
      "W hello world\n",
      "o hello world\n",
      "r hello world\n",
      "l hello world\n",
      "d hello world\n"
     ]
    }
   ],
   "source": [
    "a=\"Hello World\"\n",
    "for i in a:\n",
    "    print(i,\"hello world\")\n",
    "    "
   ]
  },
  {
   "cell_type": "code",
   "execution_count": 46,
   "id": "e6020b7b",
   "metadata": {},
   "outputs": [
    {
     "name": "stdout",
     "output_type": "stream",
     "text": [
      "Hello World I am Python"
     ]
    }
   ],
   "source": [
    "a=\"Hello World. I am Python.\"\n",
    "for i in a:\n",
    "    if i != \".\":\n",
    "        print(i,end= \"\")\n",
    "    \n",
    "    "
   ]
  },
  {
   "cell_type": "code",
   "execution_count": 47,
   "id": "e5b1a2d8",
   "metadata": {},
   "outputs": [
    {
     "name": "stdout",
     "output_type": "stream",
     "text": [
      "Hello World I am Python"
     ]
    }
   ],
   "source": [
    "a=\"Hello World! I am Python.\"\n",
    "for i in a:\n",
    "    if i !=\".\" and i !=\"!\":\n",
    "        print(i,end=\"\")"
   ]
  },
  {
   "cell_type": "code",
   "execution_count": 48,
   "id": "d89a716e",
   "metadata": {},
   "outputs": [
    {
     "name": "stdout",
     "output_type": "stream",
     "text": [
      "\n",
      "o\n",
      "oo\n",
      "ooo\n",
      "oooo\n"
     ]
    }
   ],
   "source": [
    "for i in range(5):\n",
    "    print(i*\"o\")"
   ]
  },
  {
   "cell_type": "code",
   "execution_count": 52,
   "id": "cc94e434",
   "metadata": {},
   "outputs": [
    {
     "name": "stdout",
     "output_type": "stream",
     "text": [
      "enter n=10\n",
      "           \n",
      "          o\n",
      "         ooo\n",
      "        ooooo\n",
      "       ooooooo\n",
      "      ooooooooo\n",
      "     ooooooooooo\n",
      "    ooooooooooooo\n",
      "   ooooooooooooooo\n",
      "  ooooooooooooooooo\n"
     ]
    }
   ],
   "source": [
    "n=int(input(\"enter n=\"))\n",
    "for i in range(n):\n",
    "    print((n-i)*\" \",(2*i-1)*\"o\")"
   ]
  },
  {
   "cell_type": "code",
   "execution_count": 54,
   "id": "b50b9474",
   "metadata": {},
   "outputs": [
    {
     "name": "stdout",
     "output_type": "stream",
     "text": [
      "\n"
     ]
    }
   ],
   "source": [
    "a = \"o\"\n",
    "print(a*(-1))"
   ]
  },
  {
   "cell_type": "code",
   "execution_count": 55,
   "id": "78324b0a",
   "metadata": {},
   "outputs": [
    {
     "name": "stdout",
     "output_type": "stream",
     "text": [
      "           \n",
      "          o\n",
      "         ooo\n",
      "        ooooo\n",
      "       ooooooo\n",
      "      ooooooooo\n",
      "     ooooooooooo\n",
      "    ooooooooooooo\n",
      "   ooooooooooooooo\n",
      "  ooooooooooooooooo\n",
      " ooooooooooooooooooo\n",
      "  ooooooooooooooooo\n",
      "   ooooooooooooooo\n",
      "    ooooooooooooo\n",
      "     ooooooooooo\n",
      "      ooooooooo\n",
      "       ooooooo\n",
      "        ooooo\n",
      "         ooo\n",
      "          o\n"
     ]
    }
   ],
   "source": [
    "n = 10\n",
    "for i in range(n):\n",
    "    print((n-i)*\" \",(2*i-1)*\"o\")\n",
    "for i in range(n,0,-1):\n",
    "    print((n-i)*\" \",(2*i-1)*\"o\")"
   ]
  },
  {
   "cell_type": "code",
   "execution_count": 2,
   "id": "ca442d14",
   "metadata": {},
   "outputs": [
    {
     "name": "stdout",
     "output_type": "stream",
     "text": [
      "{'a': 'apple', 'b': 'ball', 'c': 'cat', 'd': 'dog'}\n",
      "<class 'dict'>\n"
     ]
    }
   ],
   "source": [
    "d={\"a\":\"apple\",\"b\":\"ball\",\"c\":\"cat\",\"d\":\"dog\"}\n",
    "print(d)\n",
    "print(type(d))"
   ]
  },
  {
   "cell_type": "code",
   "execution_count": 5,
   "id": "46d994d9",
   "metadata": {},
   "outputs": [
    {
     "name": "stdout",
     "output_type": "stream",
     "text": [
      "cat\n"
     ]
    }
   ],
   "source": [
    "print(d[\"c\"])"
   ]
  },
  {
   "cell_type": "code",
   "execution_count": 6,
   "id": "b0e57437",
   "metadata": {},
   "outputs": [
    {
     "ename": "TypeError",
     "evalue": "unsupported operand type(s) for +: 'dict' and 'dict'",
     "output_type": "error",
     "traceback": [
      "\u001b[1;31m---------------------------------------------------------------------------\u001b[0m",
      "\u001b[1;31mTypeError\u001b[0m                                 Traceback (most recent call last)",
      "Cell \u001b[1;32mIn[6], line 3\u001b[0m\n\u001b[0;32m      1\u001b[0m a \u001b[38;5;241m=\u001b[39m {\u001b[38;5;124m'\u001b[39m\u001b[38;5;124ma\u001b[39m\u001b[38;5;124m'\u001b[39m:\u001b[38;5;124m'\u001b[39m\u001b[38;5;124mapple\u001b[39m\u001b[38;5;124m'\u001b[39m,\u001b[38;5;124m'\u001b[39m\u001b[38;5;124mb\u001b[39m\u001b[38;5;124m'\u001b[39m:\u001b[38;5;124m'\u001b[39m\u001b[38;5;124mBall\u001b[39m\u001b[38;5;124m'\u001b[39m,\u001b[38;5;124m'\u001b[39m\u001b[38;5;124mc\u001b[39m\u001b[38;5;124m'\u001b[39m:\u001b[38;5;124m'\u001b[39m\u001b[38;5;124mCat\u001b[39m\u001b[38;5;124m'\u001b[39m}\n\u001b[0;32m      2\u001b[0m b \u001b[38;5;241m=\u001b[39m {\u001b[38;5;241m1\u001b[39m:\u001b[38;5;241m1\u001b[39m,\u001b[38;5;241m2\u001b[39m:\u001b[38;5;241m4\u001b[39m,\u001b[38;5;241m3\u001b[39m:\u001b[38;5;241m9\u001b[39m}\n\u001b[1;32m----> 3\u001b[0m c \u001b[38;5;241m=\u001b[39m a\u001b[38;5;241m+\u001b[39mb\n\u001b[0;32m      4\u001b[0m \u001b[38;5;28mprint\u001b[39m(c)\n",
      "\u001b[1;31mTypeError\u001b[0m: unsupported operand type(s) for +: 'dict' and 'dict'"
     ]
    }
   ],
   "source": [
    "a = {'a':'apple','b':'Ball','c':'Cat'}\n",
    "b = {1:1,2:4,3:9}\n",
    "c = a+b\n",
    "print(c)"
   ]
  },
  {
   "cell_type": "code",
   "execution_count": 8,
   "id": "6218cc3f",
   "metadata": {},
   "outputs": [
    {
     "name": "stdout",
     "output_type": "stream",
     "text": [
      "{1: 1, 2: 4, 3: 9, 4: 16, 'a': 'apple', 'b': 'ball', 'c': 'cat'}\n"
     ]
    }
   ],
   "source": [
    "a={'a':'apple','b':'ball','c':'cat'}\n",
    "c={1:1,2:4,3:9,4:16}\n",
    "c.update(a)\n",
    "print(c)\n"
   ]
  },
  {
   "cell_type": "code",
   "execution_count": 13,
   "id": "2a451371",
   "metadata": {},
   "outputs": [
    {
     "name": "stdout",
     "output_type": "stream",
     "text": [
      "a b c "
     ]
    }
   ],
   "source": [
    "a={'a':'apple','b':'ball','c':'cat'}\n",
    "for i in a:\n",
    "    print(i,end=\" \")"
   ]
  },
  {
   "cell_type": "code",
   "execution_count": 17,
   "id": "2d9752c6",
   "metadata": {},
   "outputs": [
    {
     "name": "stdout",
     "output_type": "stream",
     "text": [
      "apple ball cat "
     ]
    }
   ],
   "source": [
    "a={'a':'apple','b':'ball','c':'cat'}\n",
    "for i in a.values():\n",
    "    print(i,end=\" \")"
   ]
  },
  {
   "cell_type": "code",
   "execution_count": 18,
   "id": "98263c95",
   "metadata": {},
   "outputs": [
    {
     "name": "stdout",
     "output_type": "stream",
     "text": [
      "('a', 'apple') ('b', 'ball') ('c', 'cat') "
     ]
    }
   ],
   "source": [
    "a={'a':'apple','b':'ball','c':'cat'}\n",
    "for i in a.items():\n",
    "    print(i,end=\" \")"
   ]
  },
  {
   "cell_type": "code",
   "execution_count": 19,
   "id": "95e779a3",
   "metadata": {},
   "outputs": [
    {
     "data": {
      "text/plain": [
       "{'a': 'apple', 'b': 'ball', 'c': 'cat'}"
      ]
     },
     "execution_count": 19,
     "metadata": {},
     "output_type": "execute_result"
    }
   ],
   "source": [
    "d={}\n",
    "d['a']='apple'\n",
    "d['b']='ball'\n",
    "d['c']='cat'\n",
    "d"
   ]
  },
  {
   "cell_type": "code",
   "execution_count": 20,
   "id": "a4e06e0c",
   "metadata": {},
   "outputs": [
    {
     "name": "stdout",
     "output_type": "stream",
     "text": [
      "{'b': 'ball', 'c': 'cat'}\n"
     ]
    }
   ],
   "source": [
    "a={'a':'apple','b':'ball','c':'cat'}\n",
    "del d['a']\n",
    "print(d)"
   ]
  },
  {
   "cell_type": "code",
   "execution_count": 21,
   "id": "509b68b5",
   "metadata": {},
   "outputs": [
    {
     "name": "stdout",
     "output_type": "stream",
     "text": [
      "Apple\n",
      "{'b': 'Ball', 'c': 'Cat'}\n"
     ]
    }
   ],
   "source": [
    "d = {'a': 'Apple', 'b': 'Ball', 'c': 'Cat'}\n",
    "b = d.pop('a')\n",
    "print(b)\n",
    "print(d)"
   ]
  },
  {
   "cell_type": "code",
   "execution_count": 22,
   "id": "23447349",
   "metadata": {},
   "outputs": [
    {
     "data": {
      "text/plain": [
       "{'ram': 9876635689, 'shyam': 97854567856}"
      ]
     },
     "execution_count": 22,
     "metadata": {},
     "output_type": "execute_result"
    }
   ],
   "source": [
    "info={'ram':9876635689,'shyam':97854567856}\n",
    "info"
   ]
  },
  {
   "cell_type": "code",
   "execution_count": 25,
   "id": "4abfc088",
   "metadata": {},
   "outputs": [
    {
     "name": "stdout",
     "output_type": "stream",
     "text": [
      "ram shyam "
     ]
    }
   ],
   "source": [
    "info={'ram':9876635689,'shyam':97854567856}\n",
    "for i in info:\n",
    "    print(i,end=\" \")"
   ]
  },
  {
   "cell_type": "code",
   "execution_count": 27,
   "id": "b5e8826d",
   "metadata": {},
   "outputs": [
    {
     "name": "stdout",
     "output_type": "stream",
     "text": [
      "9876635689\n",
      "97854567856\n"
     ]
    }
   ],
   "source": [
    "info={'ram':9876635689,'shyam':97854567856}\n",
    "for i in info.values():\n",
    "    print(i)"
   ]
  },
  {
   "cell_type": "code",
   "execution_count": 29,
   "id": "9ce50e0e",
   "metadata": {},
   "outputs": [
    {
     "name": "stdout",
     "output_type": "stream",
     "text": [
      "('ram', 9876635689) ('shyam', 97854567856) "
     ]
    }
   ],
   "source": [
    "info={'ram':9876635689,'shyam':97854567856}\n",
    "for i in info.items():\n",
    "    print(i,end=\" \")"
   ]
  },
  {
   "cell_type": "code",
   "execution_count": 30,
   "id": "e6ae280f",
   "metadata": {},
   "outputs": [
    {
     "name": "stdout",
     "output_type": "stream",
     "text": [
      "{'shyam': 97854567856}\n"
     ]
    }
   ],
   "source": [
    "info={'ram':9876635689,'shyam':97854567856}\n",
    "del info['ram']\n",
    "print(info)"
   ]
  },
  {
   "cell_type": "code",
   "execution_count": 31,
   "id": "fb88fdac",
   "metadata": {},
   "outputs": [
    {
     "data": {
      "text/plain": [
       "{'Ram': [945667654, 9808778765],\n",
       " 'Shyam': [9845667876, 9808778765],\n",
       " 'Hari': [9845667654, 9808778765]}"
      ]
     },
     "execution_count": 31,
     "metadata": {},
     "output_type": "execute_result"
    }
   ],
   "source": [
    "info = {'Ram':[945667654,9808778765],\n",
    "        'Shyam':[9845667876,9808778765],\n",
    "        'Hari':[9845667654,9808778765]}\n",
    "info"
   ]
  },
  {
   "cell_type": "code",
   "execution_count": 33,
   "id": "fe11aebf",
   "metadata": {},
   "outputs": [
    {
     "name": "stdout",
     "output_type": "stream",
     "text": [
      "945667654\n"
     ]
    }
   ],
   "source": [
    "print(info['Ram'][0])"
   ]
  },
  {
   "cell_type": "code",
   "execution_count": 1,
   "id": "66f2770a",
   "metadata": {},
   "outputs": [
    {
     "name": "stdout",
     "output_type": "stream",
     "text": [
      "[{'name': 'Ram', 'age': 34, 'add': 'Kathmandu'}, {'name': 'Shyam', 'age': 66, 'add': 'Bhaktapur'}, {'name': 'Hari', 'age': 33, 'add': 'Lalitpur'}, {'name': 'Sita', 'age': 24, 'add': 'Kathmandu'}] "
     ]
    }
   ],
   "source": [
    "d = [{'name':'Ram','age':34,'add':\"Kathmandu\"},\n",
    "    {'name':'Shyam','age':66,'add':\"Bhaktapur\"},\n",
    "    {'name':'Hari','age':33,'add':\"Lalitpur\"},\n",
    "    {'name':'Sita','age':24,'add':\"Kathmandu\"}]\n",
    "print(d,end=\" \")"
   ]
  },
  {
   "cell_type": "code",
   "execution_count": 3,
   "id": "6584aaf0",
   "metadata": {},
   "outputs": [
    {
     "name": "stdout",
     "output_type": "stream",
     "text": [
      "Enter n = 2\n",
      "Enter name = bscjhb\n",
      "Enter ntc no = 3874846\n",
      "Enter ncell no = \n",
      "Enter name = rfcnjkrfbn\n",
      "Enter ntc no = 847r82\n",
      "Enter ncell no = 324\n",
      "[{'name': 'bscjhb', 'ntc': '3874846', 'ncell': ''}, {'name': 'rfcnjkrfbn', 'ntc': '847r82', 'ncell': '324'}]\n"
     ]
    }
   ],
   "source": [
    "l = []\n",
    "n = int(input(\"Enter n = \"))\n",
    "for i in range(n):\n",
    "    name = input(\"Enter name = \")\n",
    "    ntc = input(\"Enter ntc no = \")\n",
    "    ncell = input(\"Enter ncell no = \")\n",
    "    d = {'name':name,'ntc':ntc,'ncell':ncell}\n",
    "    l.append(d)\n",
    "    \n",
    "print(l)"
   ]
  },
  {
   "cell_type": "code",
   "execution_count": null,
   "id": "8d35da01",
   "metadata": {},
   "outputs": [],
   "source": []
  }
 ],
 "metadata": {
  "kernelspec": {
   "display_name": "Python 3 (ipykernel)",
   "language": "python",
   "name": "python3"
  },
  "language_info": {
   "codemirror_mode": {
    "name": "ipython",
    "version": 3
   },
   "file_extension": ".py",
   "mimetype": "text/x-python",
   "name": "python",
   "nbconvert_exporter": "python",
   "pygments_lexer": "ipython3",
   "version": "3.11.5"
  }
 },
 "nbformat": 4,
 "nbformat_minor": 5
}
