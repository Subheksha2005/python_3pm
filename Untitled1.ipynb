{
 "cells": [
  {
   "cell_type": "code",
   "execution_count": 1,
   "id": "ca09980c",
   "metadata": {},
   "outputs": [],
   "source": [
    "#<> <= >= =="
   ]
  },
  {
   "cell_type": "code",
   "execution_count": 4,
   "id": "acc83d39",
   "metadata": {},
   "outputs": [
    {
     "name": "stdout",
     "output_type": "stream",
     "text": [
      "False\n"
     ]
    }
   ],
   "source": [
    "a=10\n",
    "print(a==5)\n"
   ]
  },
  {
   "cell_type": "code",
   "execution_count": 5,
   "id": "5ce3ab05",
   "metadata": {},
   "outputs": [
    {
     "name": "stdout",
     "output_type": "stream",
     "text": [
      "True\n"
     ]
    }
   ],
   "source": [
    "a=10\n",
    "print(a !=5)"
   ]
  },
  {
   "cell_type": "code",
   "execution_count": 8,
   "id": "473c54d7",
   "metadata": {},
   "outputs": [],
   "source": [
    "#if <condition>:\n",
    "#    <operations>\n",
    "#elif <condition>:\n",
    " #   <operations>\n",
    "#else \n",
    "  #  <operations>"
   ]
  },
  {
   "cell_type": "code",
   "execution_count": 21,
   "id": "1814f795",
   "metadata": {},
   "outputs": [
    {
     "name": "stdout",
     "output_type": "stream",
     "text": [
      "Enter x=0\n",
      "The number is neutral\n"
     ]
    }
   ],
   "source": [
    "x=int(input(\"Enter x=\"))\n",
    "if x>0:\n",
    "    print(\"The no is +ve\")\n",
    "elif x==0:\n",
    "    print(\"The number is neutral\")\n",
    "else:\n",
    "    print(\"The number is -ve\")\n"
   ]
  },
  {
   "cell_type": "code",
   "execution_count": 19,
   "id": "62f047b9",
   "metadata": {},
   "outputs": [
    {
     "name": "stdout",
     "output_type": "stream",
     "text": [
      "Enter x=5\n",
      "the no is odd\n"
     ]
    }
   ],
   "source": [
    "x=int(input(\"Enter x=\"))\n",
    "if x%2==0:\n",
    "    print(\"The no is even\")\n",
    "else:\n",
    "    print(\"the no is odd\")"
   ]
  },
  {
   "cell_type": "code",
   "execution_count": 23,
   "id": "42282b87",
   "metadata": {},
   "outputs": [
    {
     "name": "stdout",
     "output_type": "stream",
     "text": [
      "Enter a=3\n",
      "Enter b=4\n",
      "b is greater than a\n"
     ]
    }
   ],
   "source": [
    "a=int(input(\"Enter a=\"))\n",
    "b=int(input(\"Enter b=\"))\n",
    "if a>b:\n",
    "    print(\"a is greater than b\")\n",
    "elif b>a:\n",
    "    print(\"b is greater than a\")\n",
    "else:\n",
    "    print(\"a and b are equal\")"
   ]
  },
  {
   "cell_type": "code",
   "execution_count": 5,
   "id": "ff1f7cf1",
   "metadata": {},
   "outputs": [
    {
     "name": "stdout",
     "output_type": "stream",
     "text": [
      "enter a=4\n",
      "enter b=0\n",
      "enter +or - or * or/ /\n"
     ]
    }
   ],
   "source": [
    "a=int(input(\"enter a=\"))\n",
    "b=int(input(\"enter b=\"))\n",
    "o=input(\"enter +or - or * or/ \")\n",
    "if o== \"+\":\n",
    "    print(a+b)\n",
    "elif o== \"-\":\n",
    "    print(a-b)\n",
    "elif o== \"*\":\n",
    "    print(a*b)\n",
    "elif o==\"/\" :\n",
    "    if b!=0:\n",
    "        print(a/b)\n",
    "else:\n",
    "    print(\"the value of b cannot be zero\")\n",
    "    \n",
    "\n"
   ]
  },
  {
   "cell_type": "code",
   "execution_count": 2,
   "id": "fc2661c1",
   "metadata": {},
   "outputs": [
    {
     "name": "stdout",
     "output_type": "stream",
     "text": [
      "enter physics marks=45\n",
      "enter chemistry marks =45\n",
      "enter math marks =45\n",
      "enter english marks =45\n",
      "enter nepali marks =45\n",
      "pass in physics\n",
      "Total = 225\n",
      "Per= 45.0\n",
      "Grade= C\n"
     ]
    }
   ],
   "source": [
    "physics=int(input(\"enter physics marks=\"))\n",
    "chemistry=int(input(\"enter chemistry marks =\"))\n",
    "math=int(input(\"enter math marks =\"))\n",
    "english=int(input(\"enter english marks =\"))\n",
    "nepali=int(input(\"enter nepali marks =\"))\n",
    "\n",
    "if physics>=32 and chemistry>=32 and math>=32 and english>=32 and nepali>=32:\n",
    "    total=physics+chemistry+math+english+nepali\n",
    "    per=total/5\n",
    " \n",
    "    if physics>=32:\n",
    "        print(\"pass in physics\")\n",
    "    else:\n",
    "        print(\"fail in physics\")\n",
    "\n",
    "    if per>= 80: \n",
    "        grade=\"A\"\n",
    "    elif per>=60 :\n",
    "        grade=\"B\"\n",
    "    elif per>=45:\n",
    "        grade=\"C\"\n",
    "    else:\n",
    "        grade=\"D\"\n",
    "    \n",
    "    print(\"Total =\",total)\n",
    "    print(\"Per=\",per)\n",
    "    print(\"Grade=\",grade)\n",
    "\n",
    "else:\n",
    "    print(\"Grade=F\")"
   ]
  },
  {
   "cell_type": "markdown",
   "id": "fb78d0f7",
   "metadata": {},
   "source": [
    "#### logical operators \n",
    "#and &\n",
    "print(True and False)\n",
    "print(False and True)\n",
    "print(True and True)\n",
    "print(False and False)\n"
   ]
  },
  {
   "cell_type": "code",
   "execution_count": 5,
   "id": "da2fc8b1",
   "metadata": {},
   "outputs": [
    {
     "name": "stdout",
     "output_type": "stream",
     "text": [
      "True\n",
      "True\n",
      "False\n",
      "True\n"
     ]
    }
   ],
   "source": [
    "#or\n",
    "print(True or False)\n",
    "print(False or True)\n",
    "print(False or False)\n",
    "print(True or True)"
   ]
  },
  {
   "cell_type": "code",
   "execution_count": 14,
   "id": "410d0e00",
   "metadata": {},
   "outputs": [
    {
     "name": "stdout",
     "output_type": "stream",
     "text": [
      "enter x=-1\n",
      "the value of x is negatvie and odd\n"
     ]
    }
   ],
   "source": [
    "x=int(input(\"enter x=\"))\n",
    "if x>0 and x%2==0:\n",
    "    print(\"the value of x is positive and even\")\n",
    "elif x>0 and x%2!=0:\n",
    "    print(\"the value of x is negative and odd\")\n",
    "elif x<0 and x%2==0:\n",
    "     print(\"the value of x is negative and even\")\n",
    "else:\n",
    "    print(\"the value of x is negatvie and odd\")\n",
    "    \n",
    "    "
   ]
  },
  {
   "cell_type": "code",
   "execution_count": 15,
   "id": "0e332dd9",
   "metadata": {},
   "outputs": [],
   "source": [
    "#nested if/else\n",
    "\n",
    "#if<condition>:\n",
    " #   <operations>\n",
    "  #  else:\n",
    "   #     <operations>\n",
    "#else:\n",
    " #   if<condition>:\n",
    "   # <operations>\n",
    "    #else:\n",
    "     #   <operations>\n",
    "    "
   ]
  },
  {
   "cell_type": "code",
   "execution_count": 1,
   "id": "0f5e6168",
   "metadata": {},
   "outputs": [
    {
     "name": "stdout",
     "output_type": "stream",
     "text": [
      "enter x=4\n",
      "the value of x is positive and even\n"
     ]
    }
   ],
   "source": [
    "x=int(input(\"enter x=\"))\n",
    "if x>=0:\n",
    "    if x%2==0:\n",
    "        print(\"the value of x is positive and even\")\n",
    "    else:\n",
    "          print(\"the value of x is positive and odd\")\n",
    "else:\n",
    "    if x%2==0:\n",
    "        print(\"the value of x is negative and even\")\n",
    "             \n",
    "        \n",
    "    else:\n",
    "             print(\"the value of x is negative and odd\")\n",
    "            "
   ]
  },
  {
   "cell_type": "code",
   "execution_count": null,
   "id": "88c25bd3",
   "metadata": {},
   "outputs": [],
   "source": [
    "#for loop\n",
    "#while loop\n"
   ]
  },
  {
   "cell_type": "code",
   "execution_count": 1,
   "id": "22c92e07",
   "metadata": {},
   "outputs": [],
   "source": [
    "#for loop\n",
    "#range(5)    #0,1,2,3,4   for(i=0;i<5;i++;)\n",
    "#range(1,5)  #1,2,3,4     for(i=1;i<5;i++;)\n",
    "#range(1,10,2) #1,3,5,7,9  for(i=1,i<10; i=i+2;)"
   ]
  },
  {
   "cell_type": "code",
   "execution_count": 3,
   "id": "6ee06637",
   "metadata": {},
   "outputs": [
    {
     "name": "stdout",
     "output_type": "stream",
     "text": [
      "0 Hello Subheksha\n",
      "1 Hello Subheksha\n",
      "2 Hello Subheksha\n",
      "3 Hello Subheksha\n",
      "4 Hello Subheksha\n"
     ]
    }
   ],
   "source": [
    "for i in range(5):\n",
    "    print(i,\"Hello Subheksha\")"
   ]
  },
  {
   "cell_type": "code",
   "execution_count": 4,
   "id": "32d28014",
   "metadata": {},
   "outputs": [
    {
     "name": "stdout",
     "output_type": "stream",
     "text": [
      "1 Hello Subheksha\n",
      "2 Hello Subheksha\n",
      "3 Hello Subheksha\n",
      "4 Hello Subheksha\n"
     ]
    }
   ],
   "source": [
    "for i in range(1,5):\n",
    "    print(i,\"Hello Subheksha\")"
   ]
  },
  {
   "cell_type": "code",
   "execution_count": 7,
   "id": "1e8ebb6a",
   "metadata": {},
   "outputs": [
    {
     "name": "stdout",
     "output_type": "stream",
     "text": [
      "5 Hello Subheksha\n",
      "4 Hello Subheksha\n",
      "3 Hello Subheksha\n",
      "2 Hello Subheksha\n",
      "1 Hello Subheksha\n"
     ]
    }
   ],
   "source": [
    "for i in range(5,0,-1):\n",
    "    print(i,\"Hello Subheksha\")"
   ]
  },
  {
   "cell_type": "code",
   "execution_count": 8,
   "id": "81c00aa6",
   "metadata": {},
   "outputs": [
    {
     "name": "stdout",
     "output_type": "stream",
     "text": [
      "5 Hello World\n",
      "4 Hello World\n",
      "3 Hello World\n",
      "2 Hello World\n",
      "1 Hello World\n",
      "0 Hello World\n"
     ]
    }
   ],
   "source": [
    "for i in range(5,-1,-1):\n",
    "    print(i,\"Hello World\")"
   ]
  },
  {
   "cell_type": "code",
   "execution_count": 10,
   "id": "358d2fd8",
   "metadata": {},
   "outputs": [
    {
     "name": "stdout",
     "output_type": "stream",
     "text": [
      "enter n=6\n",
      "6 * 1 = 6\n",
      "6 * 2 = 12\n",
      "6 * 3 = 18\n",
      "6 * 4 = 24\n",
      "6 * 5 = 30\n",
      "6 * 6 = 36\n",
      "6 * 7 = 42\n",
      "6 * 8 = 48\n",
      "6 * 9 = 54\n",
      "6 * 10 = 60\n"
     ]
    }
   ],
   "source": [
    "#WAP to create a multiplication table\n",
    "n=int(input(\"enter n=\"))\n",
    "for i in range(1,11):\n",
    "    print(n,\"*\",i,\"=\",n*i)\n",
    "    "
   ]
  },
  {
   "cell_type": "code",
   "execution_count": 11,
   "id": "f2e8d966",
   "metadata": {},
   "outputs": [
    {
     "name": "stdout",
     "output_type": "stream",
     "text": [
      "enter x=5\n",
      "You entered 5\n",
      "enter x=7\n",
      "You entered 7\n",
      "enter x=0\n",
      "You entered 0\n",
      "enter x=7\n",
      "You entered 7\n",
      "enter x=8\n",
      "You entered 8\n"
     ]
    }
   ],
   "source": [
    "for i in range(5):\n",
    "    x=int(input(\"enter x=\"))\n",
    "    print(\"You entered\",x)"
   ]
  },
  {
   "cell_type": "code",
   "execution_count": 6,
   "id": "3ef1e493",
   "metadata": {},
   "outputs": [
    {
     "name": "stdout",
     "output_type": "stream",
     "text": [
      "enter n=3\n",
      "enter x=uhediu\n",
      "enter x=edjiwej\n",
      "enter x=ejdiw\n",
      "uhediu\n",
      "edjiwej\n",
      "ejdiw\n",
      "\n"
     ]
    }
   ],
   "source": [
    "#s=str()\n",
    "s=\"\"\n",
    "n=int(input(\"enter n=\"))\n",
    "for i in range(n):\n",
    "    x=input(\"enter x=\")\n",
    "    s=s+x+\"\\n\"\n",
    "    \n",
    "print(s)"
   ]
  },
  {
   "cell_type": "markdown",
   "id": "2ee7c283",
   "metadata": {},
   "source": []
  },
  {
   "cell_type": "code",
   "execution_count": 11,
   "id": "798e3668",
   "metadata": {},
   "outputs": [
    {
     "name": "stdout",
     "output_type": "stream",
     "text": [
      "enter n=2\n",
      "enter name=ram\n",
      "enter phone number=4756747389\n",
      "enter name=ganesh\n",
      "enter phone number=874863\n",
      "ram 4756747389\n",
      "ganesh 874863\n",
      "\n"
     ]
    }
   ],
   "source": [
    "s=\"\"\n",
    "n=int(input(\"enter n=\"))\n",
    "for i in range(n):\n",
    "    name=input(\"enter name=\")\n",
    "    phone=input(\"enter phone number=\")\n",
    "    s=s+name+ \" \"+phone +\"\\n\"\n",
    "    \n",
    "print(s)"
   ]
  },
  {
   "cell_type": "code",
   "execution_count": 1,
   "id": "0656d211",
   "metadata": {},
   "outputs": [],
   "source": [
    "#while loop"
   ]
  },
  {
   "cell_type": "code",
   "execution_count": 2,
   "id": "49b19b26",
   "metadata": {},
   "outputs": [],
   "source": [
    "#while<condition>:\n",
    "# <operations>"
   ]
  },
  {
   "cell_type": "code",
   "execution_count": 3,
   "id": "acca2366",
   "metadata": {},
   "outputs": [
    {
     "name": "stdout",
     "output_type": "stream",
     "text": [
      "0\n",
      "1\n",
      "2\n",
      "3\n",
      "4\n",
      "5\n"
     ]
    }
   ],
   "source": [
    "a=0\n",
    "while a<=5:\n",
    "    print(a)\n",
    "    a=a+1"
   ]
  },
  {
   "cell_type": "code",
   "execution_count": 5,
   "id": "a9586f85",
   "metadata": {},
   "outputs": [
    {
     "name": "stdout",
     "output_type": "stream",
     "text": [
      "0 hello world\n",
      "1 hello world\n",
      "2 hello world\n",
      "3 hello world\n",
      "4 hello world\n"
     ]
    }
   ],
   "source": [
    "a=0\n",
    "while a<5:\n",
    "    print(a,\"hello world\")\n",
    "    #a=a+1\n",
    "    a+=1"
   ]
  },
  {
   "cell_type": "code",
   "execution_count": 1,
   "id": "c568a2fc",
   "metadata": {},
   "outputs": [
    {
     "name": "stdout",
     "output_type": "stream",
     "text": [
      "enter n=5\n",
      "5\n",
      "10\n",
      "15\n",
      "20\n",
      "25\n",
      "30\n",
      "35\n",
      "40\n",
      "45\n",
      "50\n"
     ]
    }
   ],
   "source": [
    "#WAP to create a multiplication table\n",
    "i=1\n",
    "n=int(input(\"enter n=\"))\n",
    "while i<=10:\n",
    "    print(n*i)\n",
    "    i=i+1\n",
    "    "
   ]
  },
  {
   "cell_type": "code",
   "execution_count": 2,
   "id": "c5a59d33",
   "metadata": {},
   "outputs": [
    {
     "name": "stdout",
     "output_type": "stream",
     "text": [
      "enter n=5\n",
      "enter x=4\n",
      "sum= 4\n",
      "enter x=67\n",
      "sum= 71\n",
      "enter x=87\n",
      "sum= 158\n",
      "enter x=2\n",
      "sum= 160\n",
      "enter x=67\n",
      "sum= 227\n"
     ]
    }
   ],
   "source": [
    "i=0\n",
    "s=0\n",
    "n=int(input(\"enter n=\"))\n",
    "while i<n:\n",
    "    x=int(input(\"enter x=\"))\n",
    "    s=s+x\n",
    "    i=i+1\n",
    "    print(\"sum=\",s)"
   ]
  },
  {
   "cell_type": "code",
   "execution_count": 1,
   "id": "23921ea3",
   "metadata": {},
   "outputs": [
    {
     "name": "stdout",
     "output_type": "stream",
     "text": [
      "enter n=5\n",
      "1\n",
      "2\n",
      "6\n",
      "24\n",
      "120\n"
     ]
    }
   ],
   "source": [
    "#5!=1*2*3*4*5\n",
    "i=1\n",
    "fac=1\n",
    "n=int(input(\"enter n=\"))\n",
    "while i<=n:\n",
    "    fac=fac*i\n",
    "    i=i+1\n",
    "    print(fac)"
   ]
  },
  {
   "cell_type": "code",
   "execution_count": 3,
   "id": "14c3f771",
   "metadata": {},
   "outputs": [
    {
     "name": "stdout",
     "output_type": "stream",
     "text": [
      "enter n=4\n",
      "enter name=gfl\n",
      "enter phone number=hfzfg\n",
      "enter name=rtytui\n",
      "enter phone number=87746\n",
      "enter name=gtfy\n",
      "enter phone number=3456789\n",
      "enter name=lkjhgfd\n",
      "enter phone number=987654\n",
      "gfl hfzfg\n",
      "rtytui 87746\n",
      "gtfy 3456789\n",
      "lkjhgfd 987654\n",
      "\n"
     ]
    }
   ],
   "source": [
    "s=\"\"\n",
    "i=0\n",
    "n=int(input(\"enter n=\"))\n",
    "while i<n:\n",
    "    name=input(\"enter name=\")\n",
    "    phone=input(\"enter phone number=\")\n",
    "    s=s+name+ \" \"+phone +\"\\n\"\n",
    "    i=i+1\n",
    "    \n",
    "print(s)"
   ]
  },
  {
   "cell_type": "code",
   "execution_count": 2,
   "id": "a7da1468",
   "metadata": {},
   "outputs": [
    {
     "name": "stdout",
     "output_type": "stream",
     "text": [
      "0\n",
      "1\n",
      "2\n",
      "3\n",
      "4\n"
     ]
    }
   ],
   "source": [
    "#control statement in while loop\n",
    "i=0\n",
    "while i<10:\n",
    "    if i==5:\n",
    "        break\n",
    "    print(i)\n",
    "    i=i+1"
   ]
  },
  {
   "cell_type": "code",
   "execution_count": 1,
   "id": "76b2ca84",
   "metadata": {},
   "outputs": [
    {
     "name": "stdout",
     "output_type": "stream",
     "text": [
      "0\n",
      "1\n",
      "2\n",
      "3\n",
      "4\n",
      "6\n",
      "7\n",
      "8\n",
      "9\n"
     ]
    }
   ],
   "source": [
    "#control statement in while loop\n",
    "i=0\n",
    "while i<10:\n",
    "    if i==5:\n",
    "        i=i+1\n",
    "        continue\n",
    "    print(i)\n",
    "    i=i+1"
   ]
  },
  {
   "cell_type": "code",
   "execution_count": 2,
   "id": "907c9a16",
   "metadata": {},
   "outputs": [
    {
     "name": "stdout",
     "output_type": "stream",
     "text": [
      "enter a number=5\n",
      "is a prime number 5\n",
      "is not a prime number 5\n"
     ]
    }
   ],
   "source": [
    "#WAP to find if the given number is prime or composite.\n",
    "#prime ->2,3,5,7,11,13,17,19\n",
    "#composite -> 4,6,8,9,10,12\n",
    "\n",
    "\n",
    "number=int(input(\"enter a number=\"))\n",
    "if number >1:\n",
    "    for i in range(2,int(number ** 0.5)+1):\n",
    "        if number % i==0:\n",
    "            print(number,\"is a composite number\")\n",
    "            print(number,\"is not a prime number\")\n",
    "            break\n",
    "        else:\n",
    "            print(\"is a prime number\",number)\n",
    "    else:\n",
    "        print(\"is not a prime number\",number)"
   ]
  },
  {
   "cell_type": "code",
   "execution_count": 1,
   "id": "26ef6795",
   "metadata": {},
   "outputs": [
    {
     "name": "stdout",
     "output_type": "stream",
     "text": [
      "1 hello world\n",
      "2 hello world\n",
      "3 hello world\n",
      "4 hello world\n"
     ]
    }
   ],
   "source": [
    "for i in range(1,5):\n",
    "    print(i,\"hello world\")\n"
   ]
  },
  {
   "cell_type": "code",
   "execution_count": 2,
   "id": "5ba887f8",
   "metadata": {},
   "outputs": [
    {
     "name": "stdout",
     "output_type": "stream",
     "text": [
      "5 hello world\n",
      "4 hello world\n",
      "3 hello world\n",
      "2 hello world\n",
      "1 hello world\n",
      "0 hello world\n"
     ]
    }
   ],
   "source": [
    "for i in range(5,-1,-1):\n",
    "    print(i,\"hello world\")"
   ]
  },
  {
   "cell_type": "code",
   "execution_count": 6,
   "id": "616d9d7a",
   "metadata": {},
   "outputs": [
    {
     "name": "stdout",
     "output_type": "stream",
     "text": [
      "1 hello world\n",
      "3 hello world\n",
      "5 hello world\n",
      "7 hello world\n",
      "9 hello world\n"
     ]
    }
   ],
   "source": [
    "for i in range(1,10,2):\n",
    "    print(i,\"hello world\")"
   ]
  },
  {
   "cell_type": "code",
   "execution_count": 7,
   "id": "4e4d3d31",
   "metadata": {},
   "outputs": [
    {
     "name": "stdout",
     "output_type": "stream",
     "text": [
      "enter x=-2\n",
      "the no is -ve\n"
     ]
    }
   ],
   "source": [
    "x=int(input(\"enter x=\"))\n",
    "if x>0:\n",
    "    print(\"the no is +ve\")\n",
    "else:\n",
    "    print(\"the no is -ve\")"
   ]
  },
  {
   "cell_type": "code",
   "execution_count": 2,
   "id": "f3285351",
   "metadata": {},
   "outputs": [
    {
     "name": "stdout",
     "output_type": "stream",
     "text": [
      "enter a=4\n",
      "enter b=3\n",
      "enter + or - or * or /%\n",
      "the result is invalid\n"
     ]
    }
   ],
   "source": [
    "a=int(input(\"enter a=\"))\n",
    "b=int(input(\"enter b=\"))\n",
    "o=input(\"enter + or - or * or /\")\n",
    "if o== \"+\":\n",
    "    print(a+b)\n",
    "elif o==\"-\":\n",
    "    print(a-b)\n",
    "elif o==\"*\":\n",
    "    print(a*b)\n",
    "elif o==\"/\":\n",
    "    print(a/b)\n",
    "else:\n",
    "    print(\"the result is invalid\")"
   ]
  },
  {
   "cell_type": "code",
   "execution_count": 3,
   "id": "4f6a96df",
   "metadata": {},
   "outputs": [
    {
     "name": "stdout",
     "output_type": "stream",
     "text": [
      "enter physics marks=45\n",
      "enter chemistry marks=56\n",
      "enter maths marks=76\n",
      "enter english marks=6\n",
      "enter nepali marks=5\n",
      "Total= 188\n",
      "per= 37.6\n",
      "grade= F\n"
     ]
    }
   ],
   "source": [
    "physics=int(input(\"enter physics marks=\"))\n",
    "chemistry=int(input(\"enter chemistry marks=\"))\n",
    "maths=int(input(\"enter maths marks=\"))\n",
    "english=int(input(\"enter english marks=\"))\n",
    "nepali=int(input(\"enter nepali marks=\"))\n",
    "\n",
    "total=physics+chemistry+maths+english+nepali\n",
    "per=total/5\n",
    "\n",
    "if per >=80:\n",
    "    grade=\"A\"\n",
    "elif per >=60:\n",
    "    grade=\"B\"\n",
    "elif per >=45:\n",
    "    grade=\"C\"\n",
    "else:\n",
    "    grade=\"F\"\n",
    "    \n",
    "print(\"Total=\",total)\n",
    "print(\"per=\",per)\n",
    "print(\"grade=\",grade)"
   ]
  },
  {
   "cell_type": "code",
   "execution_count": 3,
   "id": "dc0c5d90",
   "metadata": {},
   "outputs": [
    {
     "name": "stdout",
     "output_type": "stream",
     "text": [
      "helloworld\n"
     ]
    }
   ],
   "source": [
    "a=\"hello\"\n",
    "b=\"world\"\n",
    "c=a+b\n",
    "print(c)"
   ]
  },
  {
   "cell_type": "code",
   "execution_count": 5,
   "id": "b383fb28",
   "metadata": {},
   "outputs": [
    {
     "name": "stdout",
     "output_type": "stream",
     "text": [
      "hello world\n",
      "hello world\n",
      "\n"
     ]
    }
   ],
   "source": [
    "a=\"hello world\\n\"\n",
    "print(a*2)"
   ]
  },
  {
   "cell_type": "code",
   "execution_count": 10,
   "id": "8a74f505",
   "metadata": {},
   "outputs": [
    {
     "name": "stdout",
     "output_type": "stream",
     "text": [
      "hello\n",
      "hlowr\n"
     ]
    }
   ],
   "source": [
    "a=\"hello world\"\n",
    "print(a[0:5])\n",
    "print(a[0:10:2])"
   ]
  },
  {
   "cell_type": "code",
   "execution_count": 13,
   "id": "d0f38d06",
   "metadata": {},
   "outputs": [
    {
     "name": "stdout",
     "output_type": "stream",
     "text": [
      "hello world"
     ]
    }
   ],
   "source": [
    "a=\"hello world\"\n",
    "for i in range (len(a)):\n",
    "    print(a[i],end=\"\")"
   ]
  },
  {
   "cell_type": "code",
   "execution_count": 15,
   "id": "aef2c9a5",
   "metadata": {},
   "outputs": [
    {
     "name": "stdout",
     "output_type": "stream",
     "text": [
      "hello world"
     ]
    }
   ],
   "source": [
    "i=0\n",
    "a=\"hello world\"\n",
    "while i<len(a):\n",
    "    print(a[i],end=\"\")\n",
    "    i=i+1"
   ]
  },
  {
   "cell_type": "code",
   "execution_count": 17,
   "id": "8e737115",
   "metadata": {},
   "outputs": [
    {
     "name": "stdout",
     "output_type": "stream",
     "text": [
      "hello world I am Ram I am from kathmandu I am 67\n"
     ]
    }
   ],
   "source": [
    "#string formatting\n",
    "name=\"Ram\"\n",
    "age=67\n",
    "add=\"kathmandu\"\n",
    "\n",
    "info=\"hello world I am \"+ name + \" I am from \" + add + \" I am \" + str(age)\n",
    "print(info)"
   ]
  },
  {
   "cell_type": "code",
   "execution_count": 22,
   "id": "fecad103",
   "metadata": {},
   "outputs": [
    {
     "name": "stdout",
     "output_type": "stream",
     "text": [
      "Hello world I am Ram. I am from kathmandu. I am 67.\n"
     ]
    }
   ],
   "source": [
    "name=\"Ram\"\n",
    "age=67\n",
    "add=\"kathmandu\"\n",
    "\n",
    "info=f\"Hello world I am {name}. I am from {add}. I am {age}.\"\n",
    "print(info)"
   ]
  },
  {
   "cell_type": "code",
   "execution_count": 25,
   "id": "b0eeb03f",
   "metadata": {},
   "outputs": [
    {
     "name": "stdout",
     "output_type": "stream",
     "text": [
      "enter n=1\n",
      "enter name=jhjekg\n",
      "enter name=987654\n",
      "jhjekg,987654\n"
     ]
    }
   ],
   "source": [
    "s=\"\"\n",
    "i=0\n",
    "n=int(input(\"enter n=\"))\n",
    "while i<n:\n",
    "      name=input(\"enter name=\")\n",
    "      phone=input(\"enter name=\")\n",
    "      s=s+f\"{name},{phone}\"\n",
    "      i=i+1\n",
    "      print(s)"
   ]
  },
  {
   "cell_type": "code",
   "execution_count": 28,
   "id": "18ab3b32",
   "metadata": {},
   "outputs": [
    {
     "name": "stdout",
     "output_type": "stream",
     "text": [
      "enter search value=Ram\n",
      "yes\n"
     ]
    }
   ],
   "source": [
    "#search in string \n",
    "a= \"Ram Shyam Hari Sita Gita Nabin\"\n",
    "search=input(\"enter search value=\")\n",
    "if search in a:\n",
    "    print(\"yes\")\n",
    "else:\n",
    "    print(\"NO\")"
   ]
  },
  {
   "cell_type": "code",
   "execution_count": 29,
   "id": "725d4b99",
   "metadata": {},
   "outputs": [
    {
     "name": "stdout",
     "output_type": "stream",
     "text": [
      "RAM SHYAM HARI SITA GITA NABIN\n",
      "ram shyam hari sita gita nabin\n",
      "Ram Shyam Hari Sita Gita Nabin\n"
     ]
    }
   ],
   "source": [
    "a= \"Ram Shyam Hari Sita Gita Nabin\"\n",
    "print(a.upper())\n",
    "print(a.lower())\n",
    "print(a)"
   ]
  },
  {
   "cell_type": "code",
   "execution_count": 33,
   "id": "ed14058d",
   "metadata": {},
   "outputs": [
    {
     "name": "stdout",
     "output_type": "stream",
     "text": [
      "enter search value=nabin\n",
      "yes\n",
      "2\n"
     ]
    }
   ],
   "source": [
    "a= \"Ram Shyam Hari Sita Gita Nabin Nabina\".lower()\n",
    "search=input(\"enter search value=\").lower()\n",
    "if search in a:\n",
    "    print(\"yes\")\n",
    "    print(a.count(search))\n",
    "else:\n",
    "    print(\"NO\")"
   ]
  },
  {
   "cell_type": "code",
   "execution_count": 38,
   "id": "715df7f4",
   "metadata": {},
   "outputs": [
    {
     "name": "stdout",
     "output_type": "stream",
     "text": [
      "Ram Shyam Hari Sita Gita Nabin sabina\n"
     ]
    }
   ],
   "source": [
    "#replace()\n",
    "a= \"Ram Shyam Hari Sita Gita Nabin Nabina\"\n",
    "a=a.replace('Nabina','sabina')\n",
    "print(a)\n",
    "\n"
   ]
  },
  {
   "cell_type": "code",
   "execution_count": 39,
   "id": "4f4c1b14",
   "metadata": {},
   "outputs": [
    {
     "ename": "SyntaxError",
     "evalue": "unmatched ']' (1057312418.py, line 1)",
     "output_type": "error",
     "traceback": [
      "\u001b[1;36m  Cell \u001b[1;32mIn[39], line 1\u001b[1;36m\u001b[0m\n\u001b[1;33m    ];[.p;.[...........................]]\u001b[0m\n\u001b[1;37m    ^\u001b[0m\n\u001b[1;31mSyntaxError\u001b[0m\u001b[1;31m:\u001b[0m unmatched ']'\n"
     ]
    }
   ],
   "source": []
  },
  {
   "cell_type": "code",
   "execution_count": 40,
   "id": "8805c62a",
   "metadata": {},
   "outputs": [
    {
     "data": {
      "text/plain": [
       "['Ram', 'Shyam', 'Hari', 'Sita', 'Gita', 'Nabin', 'Nabina']"
      ]
     },
     "execution_count": 40,
     "metadata": {},
     "output_type": "execute_result"
    }
   ],
   "source": [
    "a= \"Ram Shyam Hari Sita Gita Nabin Nabina\"\n",
    "a.split()"
   ]
  },
  {
   "cell_type": "code",
   "execution_count": 5,
   "id": "0647758f",
   "metadata": {},
   "outputs": [],
   "source": [
    "#python data collection\n",
    "#list\n",
    "#tuple\n",
    "#dict\n",
    "#set\n"
   ]
  },
  {
   "cell_type": "code",
   "execution_count": 6,
   "id": "3fe41bbe",
   "metadata": {},
   "outputs": [],
   "source": [
    "#list\n",
    "#-indexing\n",
    "#-multiple and duplicate data\n",
    "#-ordered\n",
    "#-mutable"
   ]
  },
  {
   "cell_type": "code",
   "execution_count": 7,
   "id": "eb9e9e54",
   "metadata": {},
   "outputs": [
    {
     "name": "stdout",
     "output_type": "stream",
     "text": [
      "<class 'list'>\n",
      "<class 'list'>\n"
     ]
    }
   ],
   "source": [
    "#l=list()\n",
    "l=[\"Apple\",\"Ball\",\"Cat\",\"Dog\",\"Fish\"]\n",
    "a=[1,2,3,4,5,6,7,8,9,0]\n",
    "print(type(l))\n",
    "print(type(a))"
   ]
  },
  {
   "cell_type": "code",
   "execution_count": 14,
   "id": "6bf69936",
   "metadata": {},
   "outputs": [
    {
     "name": "stdout",
     "output_type": "stream",
     "text": [
      "['Apple', 'Ball', 'Cat', 'Dog', 'Fish']\n",
      "Apple\n",
      "['Apple', 'Ball', 'Cat', 'Dog']\n",
      "['Apple', 'Cat', 'Fish']\n"
     ]
    }
   ],
   "source": [
    "l=[\"Apple\",\"Ball\",\"Cat\",\"Dog\",\"Fish\"]\n",
    "print(l)\n",
    "print(l[0])\n",
    "print(l[0:4])\n",
    "print(l[0:10:2])"
   ]
  },
  {
   "cell_type": "code",
   "execution_count": 15,
   "id": "38e99eb2",
   "metadata": {},
   "outputs": [
    {
     "name": "stdout",
     "output_type": "stream",
     "text": [
      "[1, 2, 3, 4, 5, 6, 7, 8, 9]\n"
     ]
    }
   ],
   "source": [
    "a=[1,2,3,4]\n",
    "b=[5,6,7,8,9]\n",
    "c=a+b\n",
    "print(c)"
   ]
  },
  {
   "cell_type": "code",
   "execution_count": 16,
   "id": "94fdeb9d",
   "metadata": {},
   "outputs": [
    {
     "name": "stdout",
     "output_type": "stream",
     "text": [
      "[1, 2, 3, 4, 1, 2, 3, 4]\n"
     ]
    }
   ],
   "source": [
    "a=[1,2,3,4]\n",
    "print(a*2)"
   ]
  },
  {
   "cell_type": "code",
   "execution_count": 17,
   "id": "4bd0a8a4",
   "metadata": {},
   "outputs": [
    {
     "name": "stdout",
     "output_type": "stream",
     "text": [
      "Apple\n",
      "Ball\n",
      "Cat\n",
      "Dog\n",
      "Fish\n"
     ]
    }
   ],
   "source": [
    "l=[\"Apple\",\"Ball\",\"Cat\",\"Dog\",\"Fish\"]\n",
    "for i in l:\n",
    "    print(i)\n",
    "    "
   ]
  },
  {
   "cell_type": "code",
   "execution_count": 1,
   "id": "7b250b66",
   "metadata": {},
   "outputs": [
    {
     "name": "stdout",
     "output_type": "stream",
     "text": [
      "enter search=Apple\n",
      "YES\n",
      "1\n"
     ]
    }
   ],
   "source": [
    "l=[\"Apple\",\"Ball\",\"Cat\",\"Dog\",\"Fish\",\"apple\"]\n",
    "search=input(\"enter search=\")\n",
    "if search in l:\n",
    "    print(\"YES\")\n",
    "    print(l.count(search))\n",
    "else:\n",
    "    print(\"N0\")"
   ]
  },
  {
   "cell_type": "code",
   "execution_count": 2,
   "id": "2024a81f",
   "metadata": {},
   "outputs": [],
   "source": [
    "#append() extend() insert()"
   ]
  },
  {
   "cell_type": "code",
   "execution_count": 5,
   "id": "6b9bc8e8",
   "metadata": {},
   "outputs": [
    {
     "name": "stdout",
     "output_type": "stream",
     "text": [
      "['hello', 'ball', 'cat', 'shark']\n"
     ]
    }
   ],
   "source": [
    "a=[\"hello\"]\n",
    "a.append(\"ball\")\n",
    "a.append(\"cat\")\n",
    "a.append(\"shark\")\n",
    "print(a)\n"
   ]
  },
  {
   "cell_type": "code",
   "execution_count": 8,
   "id": "43bfa9c2",
   "metadata": {},
   "outputs": [
    {
     "name": "stdout",
     "output_type": "stream",
     "text": [
      "enter n=4\n",
      "enter x=3\n",
      "enter x=3\n",
      "enter x=3\n",
      "enter x=3\n",
      "[3, 3, 3, 3]\n"
     ]
    }
   ],
   "source": [
    "l=[]\n",
    "n=int(input(\"enter n=\"))\n",
    "for i in range(n):\n",
    "    x=int(input(\"enter x=\"))\n",
    "    l.append(x)\n",
    "    \n",
    "print(l)"
   ]
  },
  {
   "cell_type": "code",
   "execution_count": 14,
   "id": "30da6531",
   "metadata": {},
   "outputs": [
    {
     "name": "stdout",
     "output_type": "stream",
     "text": [
      "maximum value= 45\n",
      "minimum value= 5\n",
      "sum of list= 92\n",
      "[5, 6, 13, 23, 45]\n",
      "[45, 23, 13, 6, 5]\n"
     ]
    }
   ],
   "source": [
    "l=[13,23,45,5,6]\n",
    "print(\"maximum value=\",max(l))\n",
    "print(\"minimum value=\",min(l))\n",
    "print(\"sum of list=\",sum(l))\n",
    "l.sort()\n",
    "print(l)\n",
    "l.sort(reverse=True)\n",
    "print(l)"
   ]
  },
  {
   "cell_type": "code",
   "execution_count": 15,
   "id": "57cf7cea",
   "metadata": {},
   "outputs": [
    {
     "name": "stdout",
     "output_type": "stream",
     "text": [
      "['ball', 'cat', 'monkey', 'zebra']\n"
     ]
    }
   ],
   "source": [
    "a=[\"ball\",\"zebra\",\"monkey\",\"cat\"]\n",
    "a.sort()\n",
    "print(a)"
   ]
  },
  {
   "cell_type": "code",
   "execution_count": 18,
   "id": "eb3684d7",
   "metadata": {},
   "outputs": [
    {
     "name": "stdout",
     "output_type": "stream",
     "text": [
      "['ball', 'zebra', 'monkey', 'cat', 'zebra']\n"
     ]
    }
   ],
   "source": [
    "a=[\"ball\",\"zebra\",\"monkey\",\"cat\"]\n",
    "a.insert(4,\"zebra\")\n",
    "print(a)"
   ]
  },
  {
   "cell_type": "code",
   "execution_count": 23,
   "id": "ea2861dc",
   "metadata": {},
   "outputs": [
    {
     "name": "stdout",
     "output_type": "stream",
     "text": [
      "[1, 2, 3, 4, 6, 7, 8, 9, 0]\n"
     ]
    }
   ],
   "source": [
    "a=[1,2,3,4]\n",
    "b=[6,7,8,9,0]\n",
    "a.extend(b)\n",
    "print(a)"
   ]
  },
  {
   "cell_type": "code",
   "execution_count": 24,
   "id": "3299e19c",
   "metadata": {},
   "outputs": [],
   "source": [
    "#del remove() pop()"
   ]
  },
  {
   "cell_type": "code",
   "execution_count": 26,
   "id": "1cb706bc",
   "metadata": {},
   "outputs": [
    {
     "name": "stdout",
     "output_type": "stream",
     "text": [
      "['cat']\n"
     ]
    }
   ],
   "source": [
    "a=[\"ball\",\"zebra\",\"monkey\",\"cat\"]\n",
    "del a[0:3]\n",
    "print(a)"
   ]
  },
  {
   "cell_type": "code",
   "execution_count": 33,
   "id": "ab02cc6f",
   "metadata": {},
   "outputs": [
    {
     "name": "stdout",
     "output_type": "stream",
     "text": [
      "['zebra', 'monkey', 'cat']\n"
     ]
    }
   ],
   "source": [
    "a=[\"ball\",\"zebra\",\"monkey\",\"cat\",\"ball\",\"ball\"]\n",
    "c=a.count(\"ball\")\n",
    "for i in range(c):\n",
    "    a.remove(\"ball\")\n",
    "print(a)\n",
    "        "
   ]
  },
  {
   "cell_type": "code",
   "execution_count": 35,
   "id": "2d21068d",
   "metadata": {},
   "outputs": [
    {
     "name": "stdout",
     "output_type": "stream",
     "text": [
      "0\n",
      "4\n",
      "5\n"
     ]
    }
   ],
   "source": [
    "a=[\"ball\",\"zebra\",\"monkey\",\"cat\",\"ball\",\"ball\"]\n",
    "c=len(a)\n",
    "for i in range(c):\n",
    "    if\"ball\"==a[i]:\n",
    "        print(i)\n",
    "\n",
    "\n"
   ]
  },
  {
   "cell_type": "code",
   "execution_count": 1,
   "id": "577b5fbd",
   "metadata": {},
   "outputs": [],
   "source": [
    "#list inside list"
   ]
  },
  {
   "cell_type": "code",
   "execution_count": 3,
   "id": "7a991dc6",
   "metadata": {},
   "outputs": [
    {
     "name": "stdout",
     "output_type": "stream",
     "text": [
      "[[1, 2, 3], [4, 5, 6], [8, 9, 0]]\n"
     ]
    }
   ],
   "source": [
    "a=[[1,2,3],\n",
    "   [4,5,6],\n",
    "   [8,9,0]]\n",
    "print(a)"
   ]
  },
  {
   "cell_type": "code",
   "execution_count": 4,
   "id": "df6d7d1a",
   "metadata": {},
   "outputs": [
    {
     "name": "stdout",
     "output_type": "stream",
     "text": [
      "[['Ram', 45, 'kathmandu'], ['shyam', 67, 'lalitpur']]\n"
     ]
    }
   ],
   "source": [
    "a=[['Ram',45,'kathmandu'],\n",
    "   ['shyam',67,'lalitpur']]\n",
    "print(a)"
   ]
  },
  {
   "cell_type": "code",
   "execution_count": 5,
   "id": "1628d5cc",
   "metadata": {},
   "outputs": [
    {
     "name": "stdout",
     "output_type": "stream",
     "text": [
      "['Ram', 45, 'kathmandu']\n"
     ]
    }
   ],
   "source": [
    "print(a[0])\n"
   ]
  },
  {
   "cell_type": "code",
   "execution_count": 8,
   "id": "1f787d4a",
   "metadata": {},
   "outputs": [
    {
     "name": "stdout",
     "output_type": "stream",
     "text": [
      "lalitpur\n"
     ]
    }
   ],
   "source": [
    "print(a[1][2])"
   ]
  },
  {
   "cell_type": "code",
   "execution_count": 1,
   "id": "dce4ea80",
   "metadata": {},
   "outputs": [
    {
     "name": "stdout",
     "output_type": "stream",
     "text": [
      "enter n=1\n",
      "enter name=edef\n",
      "enter age=45\n",
      "enter add=rgttr\n",
      "[['edef', 45, 'rgttr']]\n"
     ]
    }
   ],
   "source": [
    "l=[]\n",
    "n=int(input(\"enter n=\"))\n",
    "for i in range(n):\n",
    "    name=input(\"enter name=\")\n",
    "    age=int(input(\"enter age=\"))\n",
    "    add=input(\"enter add=\")\n",
    "    x=[name,age,add]\n",
    "    l.append(x)\n",
    "print(l)\n",
    "    \n",
    "    "
   ]
  },
  {
   "cell_type": "code",
   "execution_count": 3,
   "id": "02169022",
   "metadata": {},
   "outputs": [
    {
     "data": {
      "text/plain": [
       "['ball', 'zebra', 'monkey', 'cat', 'ball', 'ball', 'strawbweey']"
      ]
     },
     "execution_count": 3,
     "metadata": {},
     "output_type": "execute_result"
    }
   ],
   "source": [
    "l=[\"ball\",\"zebra\",\"monkey\",\"cat\",\"ball\",\"ball\"]\n",
    "l.append(\"strawbweey\")\n",
    "l"
   ]
  },
  {
   "cell_type": "code",
   "execution_count": 8,
   "id": "616ad768",
   "metadata": {},
   "outputs": [
    {
     "name": "stdout",
     "output_type": "stream",
     "text": [
      "enter name=Ram\n",
      "['Ram', 34, 'kathmandu']\n"
     ]
    }
   ],
   "source": [
    "#search\n",
    "l=[['Ram',34,'kathmandu'],\n",
    "   ['Bharat',43,'lalitpur'],\n",
    "   ['Ramu',56,'bhaktapur']]\n",
    "\n",
    "   \n",
    "name=input(\"enter name=\")\n",
    "for i in l:\n",
    "    if name in i:\n",
    "        print(i)\n"
   ]
  },
  {
   "cell_type": "code",
   "execution_count": 6,
   "id": "adc12c29",
   "metadata": {},
   "outputs": [
    {
     "name": "stdout",
     "output_type": "stream",
     "text": [
      "['Rama', 34, 'kathmandu']\n"
     ]
    }
   ],
   "source": [
    "l=[\"Ram\",34,\"kathmandu\"]\n",
    "l[0]=\"Rama\"\n",
    "print(l)"
   ]
  },
  {
   "cell_type": "code",
   "execution_count": 9,
   "id": "6ee44a4a",
   "metadata": {},
   "outputs": [
    {
     "data": {
      "text/plain": [
       "[['Rama', 34, 'kathmandu'],\n",
       " ['Bharat', 43, 'lalitpur'],\n",
       " ['Ramu', 56, 'bhaktapur']]"
      ]
     },
     "execution_count": 9,
     "metadata": {},
     "output_type": "execute_result"
    }
   ],
   "source": [
    "l=[['Ram',34,'kathmandu'],\n",
    "   ['Bharat',43,'lalitpur'],\n",
    "   ['Ramu',56,'bhaktapur']]\n",
    "l[0][0]=\"Rama\"\n",
    "l"
   ]
  },
  {
   "cell_type": "code",
   "execution_count": 14,
   "id": "0323552b",
   "metadata": {},
   "outputs": [
    {
     "name": "stdout",
     "output_type": "stream",
     "text": [
      "enter r=3\n",
      "enter c=3\n",
      "enter the value of z=34\n",
      "enter the value of z=43\n",
      "enter the value of z=45\n",
      "enter the value of z=65\n",
      "enter the value of z=78\n",
      "enter the value of z=87\n",
      "enter the value of z=78\n",
      "enter the value of z=79\n",
      "enter the value of z=57\n",
      "[[34, 43, 45], [65, 78, 87], [78, 79, 57]]\n"
     ]
    }
   ],
   "source": [
    "#WAP to create a matrix by taking input from user.\n",
    "#r ->?\n",
    "#c ->?\n",
    "#x ->? x=[[1,2,3]]\n",
    "#y ->?[1,2,3]\n",
    "\n",
    "x=[]\n",
    "r=int(input(\"enter r=\"))\n",
    "c=int(input(\"enter c=\"))\n",
    "for i in range(r):\n",
    "    y=[]\n",
    "    for j in range(c):\n",
    "        z=int(input(\"enter the value of z=\"))\n",
    "        y.append(z)\n",
    "    x.append(y)\n",
    "print(x)\n",
    "        \n"
   ]
  },
  {
   "cell_type": "code",
   "execution_count": 1,
   "id": "e68ec6d9",
   "metadata": {},
   "outputs": [],
   "source": [
    "#dictionary\n",
    "#-Indexing\n",
    "#-Ordered\n",
    "#-multiple and duplicate data\n",
    "#-mutable\n",
    "#d={<key>:<value>,<key>:<value>,....}\n"
   ]
  },
  {
   "cell_type": "code",
   "execution_count": 5,
   "id": "e7d4a02b",
   "metadata": {},
   "outputs": [
    {
     "name": "stdout",
     "output_type": "stream",
     "text": [
      "{'a': 'apple', 'b': 'ball', 'c': 'cat'}\n",
      "<class 'dict'>\n"
     ]
    }
   ],
   "source": [
    "d={'a':'apple','b':'ball','c':'cat'}\n",
    "print(d)\n",
    "print(type(d))"
   ]
  },
  {
   "cell_type": "code",
   "execution_count": 4,
   "id": "fba1da05",
   "metadata": {},
   "outputs": [
    {
     "name": "stdout",
     "output_type": "stream",
     "text": [
      "apple\n"
     ]
    }
   ],
   "source": [
    "print(d['a'])"
   ]
  },
  {
   "cell_type": "code",
   "execution_count": 8,
   "id": "4eae45fc",
   "metadata": {},
   "outputs": [
    {
     "data": {
      "text/plain": [
       "{'a': 'apple', 'b': 'ball', 'c': 'cat'}"
      ]
     },
     "execution_count": 8,
     "metadata": {},
     "output_type": "execute_result"
    }
   ],
   "source": [
    "d={'a':'apple','b':'ball','c':'cat','c':'cat'}\n",
    "d"
   ]
  },
  {
   "cell_type": "code",
   "execution_count": 11,
   "id": "a9c47890",
   "metadata": {},
   "outputs": [
    {
     "name": "stdout",
     "output_type": "stream",
     "text": [
      "{'a': 'apple', 'b': 'ball', 'c': 'cat', 1: 1, 2: 4, 3: 9}\n"
     ]
    }
   ],
   "source": [
    "a={'a':'apple','b':'ball','c':'cat'}\n",
    "b={1:1,2:4,3:9}\n",
    "a.update(b)\n",
    "print(a)"
   ]
  },
  {
   "cell_type": "code",
   "execution_count": 15,
   "id": "ca6302a4",
   "metadata": {},
   "outputs": [
    {
     "name": "stdout",
     "output_type": "stream",
     "text": [
      "a b c "
     ]
    }
   ],
   "source": [
    "a={'a':'apple','b':'ball','c':'cat'}\n",
    "for i in a:\n",
    "    print(i,end=\" \")"
   ]
  },
  {
   "cell_type": "code",
   "execution_count": 16,
   "id": "15c450f7",
   "metadata": {},
   "outputs": [
    {
     "name": "stdout",
     "output_type": "stream",
     "text": [
      "apple ball cat "
     ]
    }
   ],
   "source": [
    "a={'a':'apple','b':'ball','c':'cat'}\n",
    "for i in a.values():\n",
    "    print(i,end=\" \")"
   ]
  },
  {
   "cell_type": "code",
   "execution_count": 17,
   "id": "04467d18",
   "metadata": {},
   "outputs": [
    {
     "name": "stdout",
     "output_type": "stream",
     "text": [
      "('a', 'apple') ('b', 'ball') ('c', 'cat') "
     ]
    }
   ],
   "source": [
    "a={'a':'apple','b':'ball','c':'cat'}\n",
    "for i in a.items():\n",
    "    print(i,end=\" \")"
   ]
  },
  {
   "cell_type": "code",
   "execution_count": null,
   "id": "f276cbcd",
   "metadata": {},
   "outputs": [],
   "source": []
  },
  {
   "cell_type": "code",
   "execution_count": 18,
   "id": "cf67cb12",
   "metadata": {},
   "outputs": [
    {
     "data": {
      "text/plain": [
       "{'a': 'APPLE', 'b': 'BALL', 'c': 'CAT'}"
      ]
     },
     "execution_count": 18,
     "metadata": {},
     "output_type": "execute_result"
    }
   ],
   "source": [
    "#create \n",
    "#d=dict()\n",
    "d={}\n",
    "d['a']=\"APPLE\"\n",
    "d['b']=\"BALL\"\n",
    "d['c']=\"CAT\"\n",
    "d"
   ]
  },
  {
   "cell_type": "code",
   "execution_count": 19,
   "id": "f526947b",
   "metadata": {},
   "outputs": [
    {
     "data": {
      "text/plain": [
       "{'a': 'Ant', 'b': 'ball', 'c': 'cat'}"
      ]
     },
     "execution_count": 19,
     "metadata": {},
     "output_type": "execute_result"
    }
   ],
   "source": [
    "d={'a':'apple','b':'ball','c':'cat'}\n",
    "d['a']=\"Ant\"\n",
    "d\n",
    "\n"
   ]
  },
  {
   "cell_type": "code",
   "execution_count": 20,
   "id": "667f698f",
   "metadata": {},
   "outputs": [
    {
     "name": "stdout",
     "output_type": "stream",
     "text": [
      "{'b': 'ball', 'c': 'cat'}\n"
     ]
    }
   ],
   "source": [
    "#del pop\n",
    "d={'a':'apple','b':'ball','c':'cat'}\n",
    "del d['a']\n",
    "print(d)\n"
   ]
  },
  {
   "cell_type": "code",
   "execution_count": 21,
   "id": "98ccfa4f",
   "metadata": {},
   "outputs": [
    {
     "name": "stdout",
     "output_type": "stream",
     "text": [
      "apple\n",
      "{'b': 'ball', 'c': 'cat'}\n"
     ]
    }
   ],
   "source": [
    "d={'a':'apple','b':'ball','c':'cat'}\n",
    "b=d.pop('a')\n",
    "print(b)\n",
    "print(d)"
   ]
  },
  {
   "cell_type": "code",
   "execution_count": 22,
   "id": "0bc1509d",
   "metadata": {},
   "outputs": [
    {
     "data": {
      "text/plain": [
       "{'b': 'ball', 'c': 'cat'}"
      ]
     },
     "execution_count": 22,
     "metadata": {},
     "output_type": "execute_result"
    }
   ],
   "source": [
    "d={'a':'apple','b':'ball','c':'cat'}\n",
    "d.pop('a')\n",
    "d"
   ]
  },
  {
   "cell_type": "code",
   "execution_count": 23,
   "id": "420a6ea3",
   "metadata": {},
   "outputs": [
    {
     "data": {
      "text/plain": [
       "{'ram': 1234, 'shyam': 3435, 'hari': 343534}"
      ]
     },
     "execution_count": 23,
     "metadata": {},
     "output_type": "execute_result"
    }
   ],
   "source": [
    "#list inside dict\n",
    "info={'ram':1234,'shyam':3435,'hari':343534}\n",
    "info"
   ]
  },
  {
   "cell_type": "code",
   "execution_count": 26,
   "id": "087e2233",
   "metadata": {},
   "outputs": [
    {
     "data": {
      "text/plain": [
       "{'ram': [7365734, 74587378], 'shyam': [847845, 48934], 'hari': [94864, 489485]}"
      ]
     },
     "execution_count": 26,
     "metadata": {},
     "output_type": "execute_result"
    }
   ],
   "source": [
    "#list inside dict\n",
    "info={'ram':[7365734,74587378],\n",
    "      'shyam':[847845,48934],\n",
    "      'hari':[94864,489485]}\n",
    "info"
   ]
  },
  {
   "cell_type": "code",
   "execution_count": 30,
   "id": "01c81826",
   "metadata": {},
   "outputs": [
    {
     "name": "stdout",
     "output_type": "stream",
     "text": [
      "[7365734, 74587378]\n",
      "74587378\n"
     ]
    }
   ],
   "source": [
    "print(info['ram'])\n",
    "print(info['ram'][1])"
   ]
  },
  {
   "cell_type": "code",
   "execution_count": 31,
   "id": "0b70b34c",
   "metadata": {},
   "outputs": [
    {
     "data": {
      "text/plain": [
       "{'ram': [9863329863, 74587378],\n",
       " 'shyam': [847845, 48934],\n",
       " 'hari': [94864, 489485]}"
      ]
     },
     "execution_count": 31,
     "metadata": {},
     "output_type": "execute_result"
    }
   ],
   "source": [
    "info['ram'][0]=9863329863\n",
    "info"
   ]
  },
  {
   "cell_type": "code",
   "execution_count": 2,
   "id": "aa799c81",
   "metadata": {},
   "outputs": [
    {
     "name": "stdout",
     "output_type": "stream",
     "text": [
      "enter key value=2\n",
      "enter name=ram\n",
      "enter ntc no=9863329863\n",
      "enter ncell no=9676653568\n",
      "enter name=shyam\n",
      "enter ntc no=98745789896\n",
      "enter ncell no=9777766679\n"
     ]
    },
    {
     "data": {
      "text/plain": [
       "{'ram': ['9863329863', '9676653568'], 'shyam': ['98745789896', '9777766679']}"
      ]
     },
     "execution_count": 2,
     "metadata": {},
     "output_type": "execute_result"
    }
   ],
   "source": [
    "\n",
    "d={}\n",
    "n=int(input(\"enter key value=\"))\n",
    "for i in range(n):\n",
    "    name=input(\"enter name=\")\n",
    "    ntc=input(\"enter ntc no=\")\n",
    "    ncell=input(\"enter ncell no=\")\n",
    "    d[name]=[ntc,ncell]\n",
    "    \n",
    "d"
   ]
  },
  {
   "cell_type": "code",
   "execution_count": 7,
   "id": "090fe25f",
   "metadata": {},
   "outputs": [
    {
     "name": "stdout",
     "output_type": "stream",
     "text": [
      "ram 9845784 9845854\n"
     ]
    }
   ],
   "source": [
    "d={'name':['ram','shyam'],\n",
    "   'ntc':[9845784,9876568],\n",
    "   'ncell':[9845854,958745]}\n",
    "print(d['name'][0],d['ntc'][0],d['ncell'][0])"
   ]
  },
  {
   "cell_type": "code",
   "execution_count": 1,
   "id": "c7ae567c",
   "metadata": {},
   "outputs": [
    {
     "name": "stdout",
     "output_type": "stream",
     "text": [
      "enter n=2\n",
      "enter name=ram\n",
      "enter ntc no=98343647\n",
      "enter ncell no=87382398\n",
      "enter name=hari\n",
      "enter ntc no=9387242\n",
      "enter ncell no=48789642\n",
      "{'name': ['ram', 'hari'], 'ntc': ['98343647', '9387242'], 'ncell': ['87382398', '48789642']}\n"
     ]
    }
   ],
   "source": [
    "d={'name':[],\n",
    "   'ntc':[],\n",
    "   'ncell':[]}\n",
    "\n",
    "n=int(input(\"enter n=\"))\n",
    "for i in range(n):\n",
    "    name=input(\"enter name=\")\n",
    "    ntc=input(\"enter ntc no=\")\n",
    "    ncell=input(\"enter ncell no=\")\n",
    "    d['name'].append(name)\n",
    "    d['ntc'].append(ntc)\n",
    "    d['ncell'].append(ncell)    \n",
    "    \n",
    "print(d)"
   ]
  },
  {
   "cell_type": "code",
   "execution_count": 2,
   "id": "1178ef19",
   "metadata": {},
   "outputs": [
    {
     "name": "stdout",
     "output_type": "stream",
     "text": [
      "[{'name': 'ram', 'age': 56, 'add': 'kathmandu'}, {'name': 'ramu', 'age': 96, 'add': 'lalitpur'}, {'name': 'shyam', 'age': 50, 'add': 'bhaktapur'}, {'name': 'red', 'age': 56, 'add': 'kathmandu'}]\n"
     ]
    }
   ],
   "source": [
    "#dict inside list\n",
    "d=[{'name':'ram','age':56,'add':'kathmandu'},\n",
    "   {'name':'ramu','age':96,'add':'lalitpur'},\n",
    "   {'name':'shyam','age':50,'add':'bhaktapur'},\n",
    "   {'name':'red','age':56,'add':'kathmandu'}]\n",
    "print(d)\n"
   ]
  },
  {
   "cell_type": "code",
   "execution_count": 7,
   "id": "305bfbdc",
   "metadata": {},
   "outputs": [
    {
     "name": "stdout",
     "output_type": "stream",
     "text": [
      "ram\n"
     ]
    }
   ],
   "source": [
    "print(d[0]['name'])"
   ]
  },
  {
   "cell_type": "code",
   "execution_count": 11,
   "id": "012a4642",
   "metadata": {},
   "outputs": [
    {
     "name": "stdout",
     "output_type": "stream",
     "text": [
      "enter n=1\n",
      "enter name=jhgfx\n",
      "enter ntc no=87656789\n",
      "enter ncell no=987654321\n",
      "[{'name': 'jhgfx', 'ntc': '87656789', 'ncell': '987654321'}]\n"
     ]
    }
   ],
   "source": [
    "l=[]\n",
    "n=int(input(\"enter n=\"))\n",
    "for i in range(n):\n",
    "    name=input(\"enter name=\")\n",
    "    ntc=input(\"enter ntc no=\")\n",
    "    ncell=input(\"enter ncell no=\")\n",
    "    d={'name':name,'ntc':ntc,'ncell':ncell}  \n",
    "    l.append(d)\n",
    "    \n",
    "print(l)"
   ]
  },
  {
   "cell_type": "code",
   "execution_count": 10,
   "id": "ba5bbd7e",
   "metadata": {},
   "outputs": [
    {
     "data": {
      "text/plain": [
       "[{'name': 'iuhyj', 'ntc': '878509876', 'ncell': '98765'}]"
      ]
     },
     "execution_count": 10,
     "metadata": {},
     "output_type": "execute_result"
    }
   ],
   "source": []
  },
  {
   "cell_type": "code",
   "execution_count": 13,
   "id": "aa979b38",
   "metadata": {},
   "outputs": [
    {
     "data": {
      "text/plain": [
       "{'name': 'jhgfx', 'ntc': '87656789', 'ncell': '987654321'}"
      ]
     },
     "execution_count": 13,
     "metadata": {},
     "output_type": "execute_result"
    }
   ],
   "source": [
    "l[0]"
   ]
  },
  {
   "cell_type": "code",
   "execution_count": 29,
   "id": "2529fba6",
   "metadata": {},
   "outputs": [
    {
     "ename": "IndexError",
     "evalue": "list assignment index out of range",
     "output_type": "error",
     "traceback": [
      "\u001b[1;31m---------------------------------------------------------------------------\u001b[0m",
      "\u001b[1;31mIndexError\u001b[0m                                Traceback (most recent call last)",
      "Cell \u001b[1;32mIn[29], line 1\u001b[0m\n\u001b[1;32m----> 1\u001b[0m \u001b[38;5;28;01mdel\u001b[39;00m l[\u001b[38;5;241m0\u001b[39m]\n\u001b[0;32m      2\u001b[0m l\n",
      "\u001b[1;31mIndexError\u001b[0m: list assignment index out of range"
     ]
    }
   ],
   "source": [
    "del l[0]\n",
    "l"
   ]
  },
  {
   "cell_type": "code",
   "execution_count": 18,
   "id": "761d9b55",
   "metadata": {},
   "outputs": [
    {
     "data": {
      "text/plain": [
       "{1: {'name': 'ramu', 'age': 96, 'add': 'lalitpur'},\n",
       " 2: {'name': 'shyam', 'age': 50, 'add': 'bhaktapur'},\n",
       " 3: {'name': 'red', 'age': 56, 'add': 'kathmandu'}}"
      ]
     },
     "execution_count": 18,
     "metadata": {},
     "output_type": "execute_result"
    }
   ],
   "source": [
    "#dict inside dict\n",
    "info={1:{'name':'ramu','age':96,'add':'lalitpur'},\n",
    "      2: {'name':'shyam','age':50,'add':'bhaktapur'},\n",
    "      3:{'name':'red','age':56,'add':'kathmandu'}}\n",
    "info"
   ]
  },
  {
   "cell_type": "code",
   "execution_count": 20,
   "id": "e0c76422",
   "metadata": {},
   "outputs": [
    {
     "data": {
      "text/plain": [
       "'ramu'"
      ]
     },
     "execution_count": 20,
     "metadata": {},
     "output_type": "execute_result"
    }
   ],
   "source": [
    "info[1]['name']"
   ]
  },
  {
   "cell_type": "code",
   "execution_count": 23,
   "id": "4c4caa81",
   "metadata": {},
   "outputs": [
    {
     "name": "stdout",
     "output_type": "stream",
     "text": [
      "enter n=3\n",
      "enter name =fhurifh\n",
      "enter age =74\n",
      "enter add =fjvigugh\n",
      "enter name =hrfjrh\n",
      "enter age =75\n",
      "enter add =jfuirh\n",
      "enter name =jfirhf\n",
      "enter age =43\n",
      "enter add =jrfhjrf\n"
     ]
    },
    {
     "data": {
      "text/plain": [
       "{1: {'name': 'fhurifh', 'age': '74', 'add': 'fjvigugh'},\n",
       " 2: {'name': 'hrfjrh', 'age': '75', 'add': 'jfuirh'},\n",
       " 3: {'name': 'jfirhf', 'age': '43', 'add': 'jrfhjrf'}}"
      ]
     },
     "execution_count": 23,
     "metadata": {},
     "output_type": "execute_result"
    }
   ],
   "source": [
    "info={}\n",
    "n=int(input(\"enter n=\"))\n",
    "for i in range(1,n+1):\n",
    "    name=input(\"enter name =\")\n",
    "    age=input(\"enter age =\")\n",
    "    add=input(\"enter add =\")\n",
    "    d={'name':name,'age':age,'add':add}  \n",
    "    info[i]=d\n",
    "info"
   ]
  },
  {
   "cell_type": "code",
   "execution_count": 25,
   "id": "7c6fb539",
   "metadata": {},
   "outputs": [
    {
     "data": {
      "text/plain": [
       "{1: {'name': 'fhurifh', 'age': '74', 'add': 'fjvigugh'},\n",
       " 2: {'name': 'hrfjrh', 'age': '75', 'add': 'jfuirh'},\n",
       " 3: {'name': 'ram', 'age': 56, 'add': 'kathmandu'}}"
      ]
     },
     "execution_count": 25,
     "metadata": {},
     "output_type": "execute_result"
    }
   ],
   "source": [
    "info[3]={'name':'ram','age':56,'add':'kathmandu'}\n",
    "info"
   ]
  },
  {
   "cell_type": "code",
   "execution_count": 28,
   "id": "f66b8ef8",
   "metadata": {},
   "outputs": [
    {
     "data": {
      "text/plain": [
       "{1: {'name': 'fhurifh', 'age': '74', 'add': 'fjvigugh'},\n",
       " 2: {'name': 'hrfjrh', 'age': '75', 'add': 'jfuirh'},\n",
       " 3: {'name': 'ram', 'age': 56, 'add': {'per': 'dhading', 'temp': 'kathmandu'}}}"
      ]
     },
     "execution_count": 28,
     "metadata": {},
     "output_type": "execute_result"
    }
   ],
   "source": [
    "info[3]['add']={'per':'dhading','temp':'kathmandu'}\n",
    "info"
   ]
  },
  {
   "cell_type": "code",
   "execution_count": 1,
   "id": "38b5771e",
   "metadata": {},
   "outputs": [],
   "source": [
    "#function\n",
    "#pre defined function\n",
    "#user defined function"
   ]
  },
  {
   "cell_type": "code",
   "execution_count": 2,
   "id": "fadb1dcc",
   "metadata": {},
   "outputs": [],
   "source": [
    "#pre defined function\n",
    "#print() int() float() str() list() tuple() set() dict()"
   ]
  },
  {
   "cell_type": "code",
   "execution_count": 3,
   "id": "87b939e9",
   "metadata": {},
   "outputs": [],
   "source": [
    "#def <function name>:\n",
    "# <operation>\n",
    "\n",
    "# <function_name>()\n"
   ]
  },
  {
   "cell_type": "code",
   "execution_count": 4,
   "id": "ceefa7f6",
   "metadata": {},
   "outputs": [
    {
     "name": "stdout",
     "output_type": "stream",
     "text": [
      "hello world\n"
     ]
    }
   ],
   "source": [
    "def hello():       #defining a function\n",
    "    print(\"hello world\")\n",
    "hello()            #calling a function"
   ]
  },
  {
   "cell_type": "code",
   "execution_count": 5,
   "id": "fd1a3094",
   "metadata": {},
   "outputs": [
    {
     "name": "stdout",
     "output_type": "stream",
     "text": [
      "enter l=2\n",
      "enter b=4\n",
      "8\n"
     ]
    }
   ],
   "source": [
    "def area():\n",
    "    l=int(input(\"enter l=\"))   #local variable\n",
    "    b=int(input(\"enter b=\"))   #local variable\n",
    "    a=l*b\n",
    "    print(a)\n",
    "    \n",
    "area()"
   ]
  },
  {
   "cell_type": "code",
   "execution_count": 6,
   "id": "37ae74f3",
   "metadata": {},
   "outputs": [
    {
     "name": "stdout",
     "output_type": "stream",
     "text": [
      "enter l=3\n",
      "enter b=5\n",
      "15\n"
     ]
    }
   ],
   "source": [
    "def area():\n",
    "    a=l*b\n",
    "    print(a)\n",
    "    \n",
    "l=int(input(\"enter l=\"))   #global variable\n",
    "b=int(input(\"enter b=\"))   #global variable\n",
    "area()\n",
    "    \n"
   ]
  },
  {
   "cell_type": "code",
   "execution_count": 7,
   "id": "514b14b0",
   "metadata": {},
   "outputs": [],
   "source": [
    "#function with arguments"
   ]
  },
  {
   "cell_type": "code",
   "execution_count": 10,
   "id": "b93b9fee",
   "metadata": {},
   "outputs": [
    {
     "name": "stdout",
     "output_type": "stream",
     "text": [
      "50\n"
     ]
    }
   ],
   "source": [
    "def area(l,b):  #parameter\n",
    "    a=l*b\n",
    "    print(a)\n",
    "    \n",
    "area(10,5)  #arguments"
   ]
  },
  {
   "cell_type": "code",
   "execution_count": 11,
   "id": "ea9b1c51",
   "metadata": {},
   "outputs": [
    {
     "name": "stdout",
     "output_type": "stream",
     "text": [
      "enter l=5\n",
      "enter b=6\n",
      "30\n"
     ]
    }
   ],
   "source": [
    "def area(x,y):\n",
    "    a=x*y\n",
    "    print(a)\n",
    "    \n",
    "l=int(input(\"enter l=\"))   #global variable\n",
    "b=int(input(\"enter b=\"))   #global variable\n",
    "area(l,b)\n",
    "    \n"
   ]
  },
  {
   "cell_type": "code",
   "execution_count": 17,
   "id": "fd5ce811",
   "metadata": {},
   "outputs": [
    {
     "name": "stdout",
     "output_type": "stream",
     "text": [
      "enter name=subbu\n",
      "enter add=lubhu\n",
      "enter age=19\n",
      "hello world i am subbu.I am from lubhu.I am 19\n"
     ]
    }
   ],
   "source": [
    "def info(name,age,add):\n",
    "    print(f\"hello world i am {name}.I am from {add}.I am {age}\")\n",
    "    \n",
    "name=input(\"enter name=\")\n",
    "add=input(\"enter add=\")\n",
    "age=int(input(\"enter age=\"))\n",
    "\n",
    "info(name,age,add)"
   ]
  },
  {
   "cell_type": "code",
   "execution_count": 20,
   "id": "9b687434",
   "metadata": {},
   "outputs": [
    {
     "name": "stdout",
     "output_type": "stream",
     "text": [
      "enter name=subbu\n",
      "enter add=lubhu\n",
      "enter age=19\n",
      "hello world i am subbu.I am from 19.I am lubhu\n"
     ]
    }
   ],
   "source": [
    "def info(l):\n",
    "    x,y,z=l\n",
    "    print(f\"hello world i am {x}.I am from {y}.I am {z}\")\n",
    "    \n",
    "name=input(\"enter name=\")\n",
    "add=input(\"enter add=\")\n",
    "age=int(input(\"enter age=\"))\n",
    "\n",
    "l=[name,age,add]\n",
    "info(l)\n",
    "    \n"
   ]
  },
  {
   "cell_type": "code",
   "execution_count": 21,
   "id": "84860c65",
   "metadata": {},
   "outputs": [
    {
     "name": "stdout",
     "output_type": "stream",
     "text": [
      "C\n",
      "C++\n",
      "Java\n",
      "PHP\n",
      "python\n"
     ]
    }
   ],
   "source": [
    "def language(lan=\"python\"):\n",
    "    print(lan)\n",
    "\n",
    "language(\"C\")\n",
    "language(\"C++\")\n",
    "language(\"Java\")\n",
    "language(\"PHP\")\n",
    "language()"
   ]
  },
  {
   "cell_type": "code",
   "execution_count": 26,
   "id": "7d33c5e0",
   "metadata": {},
   "outputs": [
    {
     "name": "stdout",
     "output_type": "stream",
     "text": [
      "volume= 50\n"
     ]
    }
   ],
   "source": [
    "#return type function\n",
    "def area():\n",
    "    l=5\n",
    "    b=5\n",
    "    a=l*b\n",
    "    return a\n",
    " #print(area())\n",
    "ar=area()\n",
    "h=2\n",
    "v=ar*h\n",
    "print(\"volume=\",v)"
   ]
  },
  {
   "cell_type": "code",
   "execution_count": 30,
   "id": "70576963",
   "metadata": {},
   "outputs": [
    {
     "name": "stdout",
     "output_type": "stream",
     "text": [
      "area= 25\n",
      "volume= 50\n"
     ]
    }
   ],
   "source": [
    "def cal():\n",
    "    l=5\n",
    "    b=5\n",
    "    h=2\n",
    "    a=l*b\n",
    "    v=a*h\n",
    "    return a,v\n",
    " #print(area())\n",
    "area,volume=cal()\n",
    "print(\"area=\",area)\n",
    "print(\"volume=\",volume)"
   ]
  },
  {
   "cell_type": "code",
   "execution_count": 32,
   "id": "053d3041",
   "metadata": {},
   "outputs": [
    {
     "name": "stdout",
     "output_type": "stream",
     "text": [
      "enter l=2\n",
      "enter b=4\n",
      "enter h=2\n",
      "area= 8\n",
      "volume= 16\n"
     ]
    }
   ],
   "source": [
    "#return type function\n",
    "def cal(l,b,h):\n",
    "    a=l*b\n",
    "    v=a*h\n",
    "    return a,v\n",
    " #print(area())\n",
    "l=int(input(\"enter l=\"))\n",
    "b=int(input(\"enter b=\"))\n",
    "h=int(input(\"enter h=\"))\n",
    "\n",
    "area,volume=cal(l,b,h)\n",
    "print(\"area=\",area)\n",
    "print(\"volume=\",volume)\n"
   ]
  },
  {
   "cell_type": "code",
   "execution_count": 38,
   "id": "65556e39",
   "metadata": {},
   "outputs": [
    {
     "name": "stdout",
     "output_type": "stream",
     "text": [
      "enter a=2\n",
      "enter b=2\n",
      "enter +or - or * or/ +\n",
      "4\n"
     ]
    }
   ],
   "source": [
    "def add(a,b):\n",
    "    return a+b\n",
    "def sub(a,b):\n",
    "    return a-b\n",
    "def mul(a,b):\n",
    "    return a*b\n",
    "def div(a,b):\n",
    "    return a/b\n",
    "\n",
    "def cal():\n",
    "\n",
    "    a=int(input(\"enter a=\"))\n",
    "    b=int(input(\"enter b=\"))\n",
    "    o=input(\"enter +or - or * or/ \")\n",
    "    if o== \"+\":\n",
    "        print(add(a,b))\n",
    "    elif o== \"-\":\n",
    "        print(sub(a,b))\n",
    "    elif o== \"*\":\n",
    "        print(mul(a,b))\n",
    "    else:\n",
    "        print(div(a,b))\n",
    "        \n",
    "cal()\n",
    "    \n",
    "\n"
   ]
  },
  {
   "cell_type": "code",
   "execution_count": 1,
   "id": "805a7058",
   "metadata": {},
   "outputs": [],
   "source": [
    "#file handling\n",
    "#file=open(\"<file_name>\",\"<mode>\")\n",
    "#file.close()\n",
    "\n",
    "#with open(\"<file_name>\",\"<mode>\") as file:\n",
    "#   <operation>\n",
    "\n",
    "#modes\n",
    "#create -> 'x'\n",
    "#read -> 'r'\n",
    "#write -> 'w'\n",
    "#append -> 'a'"
   ]
  },
  {
   "cell_type": "code",
   "execution_count": 7,
   "id": "f2be8cda",
   "metadata": {},
   "outputs": [
    {
     "name": "stdout",
     "output_type": "stream",
     "text": [
      "the file is already there.\n"
     ]
    }
   ],
   "source": [
    "try:\n",
    "    file=open('data.txt','x')\n",
    "    file.close()\n",
    "except:\n",
    "    print(\"the file is already there.\")"
   ]
  },
  {
   "cell_type": "code",
   "execution_count": 4,
   "id": "f518f937",
   "metadata": {},
   "outputs": [
    {
     "data": {
      "text/plain": [
       "'C:\\\\Users\\\\lenovo\\\\Python-Class Broadway'"
      ]
     },
     "execution_count": 4,
     "metadata": {},
     "output_type": "execute_result"
    }
   ],
   "source": [
    "pwd"
   ]
  },
  {
   "cell_type": "code",
   "execution_count": 5,
   "id": "502682ee",
   "metadata": {},
   "outputs": [
    {
     "name": "stdout",
     "output_type": "stream",
     "text": [
      "1.HELLO WORLD\n",
      "2.HELLO WORLD\n",
      "3.HELLO WORLD\n",
      "4.HELLO WORLD\n",
      "5.HELLO WORLD\n"
     ]
    }
   ],
   "source": [
    "file=open('data.txt','r')\n",
    "data=file.read()\n",
    "print(data)\n",
    "file.close()"
   ]
  },
  {
   "cell_type": "code",
   "execution_count": 6,
   "id": "f8111056",
   "metadata": {},
   "outputs": [
    {
     "name": "stdout",
     "output_type": "stream",
     "text": [
      "<class 'str'>\n"
     ]
    }
   ],
   "source": [
    "print(type(data))"
   ]
  },
  {
   "cell_type": "code",
   "execution_count": 8,
   "id": "ca3f5344",
   "metadata": {},
   "outputs": [
    {
     "data": {
      "text/plain": [
       "['1.HELLO WORLD',\n",
       " '2.HELLO WORLD',\n",
       " '3.HELLO WORLD',\n",
       " '4.HELLO WORLD',\n",
       " '5.HELLO WORLD']"
      ]
     },
     "execution_count": 8,
     "metadata": {},
     "output_type": "execute_result"
    }
   ],
   "source": [
    "data=data.split('\\n')\n",
    "data"
   ]
  },
  {
   "cell_type": "code",
   "execution_count": 9,
   "id": "d9b24a69",
   "metadata": {},
   "outputs": [
    {
     "name": "stdout",
     "output_type": "stream",
     "text": [
      "1.HELLO WORLD\n"
     ]
    }
   ],
   "source": [
    "print(data[0])"
   ]
  },
  {
   "cell_type": "code",
   "execution_count": 12,
   "id": "746f729a",
   "metadata": {},
   "outputs": [],
   "source": [
    "#write mode\n",
    "file=open('data1.txt','w')\n",
    "file.write('hello world')\n",
    "file.close()"
   ]
  },
  {
   "cell_type": "code",
   "execution_count": 17,
   "id": "0257a1d4",
   "metadata": {},
   "outputs": [
    {
     "name": "stdout",
     "output_type": "stream",
     "text": [
      "enter n=2\n",
      "enter product name=apple\n",
      "enter price=4353\n",
      "enter quantity=32\n",
      "enter product name=mango\n",
      "enter price=2355\n",
      "enter quantity=23\n"
     ]
    }
   ],
   "source": [
    "bill=str()\n",
    "n=int(input(\"enter n=\"))\n",
    "for i in range(n):\n",
    "    name=input(\"enter product name=\")\n",
    "    price=float(input(\"enter price=\"))\n",
    "    qty=float(input(\"enter quantity=\"))\n",
    "    total=price*qty\n",
    "    bill=bill+f\"{name}\\t{price}\\t{qty}\\t{total} \\n\"\n",
    "    \n",
    "file=open('bill.txt','w')\n",
    "file.write('Name\\tPrice\\tQuantity\\tTotal\\n')\n",
    "file.write(bill)\n",
    "file.close()\n",
    "    "
   ]
  },
  {
   "cell_type": "code",
   "execution_count": 18,
   "id": "0e612f1d",
   "metadata": {},
   "outputs": [
    {
     "name": "stdout",
     "output_type": "stream",
     "text": [
      "enter n=2\n",
      "enter product name=apple\n",
      "enter price=3456\n",
      "enter quantity=23\n",
      "enter product name=strawberry\n",
      "enter price=4353\n",
      "enter quantity=43\n"
     ]
    }
   ],
   "source": [
    "bill=str()\n",
    "n=int(input(\"enter n=\"))\n",
    "for i in range(n):\n",
    "    name=input(\"enter product name=\")\n",
    "    price=float(input(\"enter price=\"))\n",
    "    qty=float(input(\"enter quantity=\"))\n",
    "    total=price*qty\n",
    "    bill=bill+f\"{name},{price},{qty},{total} \\n\"\n",
    "    \n",
    "file=open('bill.csv','w')\n",
    "file.write('Name,Price,Quantity,Total\\n')\n",
    "file.write(bill)\n",
    "file.close()\n",
    "    "
   ]
  },
  {
   "cell_type": "code",
   "execution_count": 5,
   "id": "33a4246e",
   "metadata": {},
   "outputs": [
    {
     "data": {
      "text/plain": [
       "26"
      ]
     },
     "execution_count": 5,
     "metadata": {},
     "output_type": "execute_result"
    }
   ],
   "source": [
    "#using append mode\n",
    "file=open('bill1.csv','a')\n",
    "file.write('Name,Price,Quantity,Total\\n')"
   ]
  },
  {
   "cell_type": "code",
   "execution_count": 6,
   "id": "22bfe427",
   "metadata": {},
   "outputs": [
    {
     "name": "stdout",
     "output_type": "stream",
     "text": [
      "enter n=2\n",
      "enter product name=ghghg\n",
      "enter price=55\n",
      "enter quantity=6\n",
      "enter product name=hgh\n",
      "enter price=4\n",
      "enter quantity=5\n"
     ]
    },
    {
     "data": {
      "text/plain": [
       "40"
      ]
     },
     "execution_count": 6,
     "metadata": {},
     "output_type": "execute_result"
    }
   ],
   "source": [
    "bill=str()\n",
    "n=int(input(\"enter n=\"))\n",
    "for i in range(n):\n",
    "    name=input(\"enter product name=\")\n",
    "    price=float(input(\"enter price=\"))\n",
    "    qty=float(input(\"enter quantity=\"))\n",
    "    total=price*qty\n",
    "    bill=bill+f\"{name},{price},{qty},{total} \\n\"\n",
    "    \n",
    "\n",
    "file.write(bill)\n"
   ]
  },
  {
   "cell_type": "code",
   "execution_count": 7,
   "id": "15b9a98f",
   "metadata": {},
   "outputs": [],
   "source": [
    "file.close()"
   ]
  },
  {
   "cell_type": "code",
   "execution_count": 9,
   "id": "ceba8600",
   "metadata": {},
   "outputs": [
    {
     "data": {
      "text/html": [
       "<div>\n",
       "<style scoped>\n",
       "    .dataframe tbody tr th:only-of-type {\n",
       "        vertical-align: middle;\n",
       "    }\n",
       "\n",
       "    .dataframe tbody tr th {\n",
       "        vertical-align: top;\n",
       "    }\n",
       "\n",
       "    .dataframe thead th {\n",
       "        text-align: right;\n",
       "    }\n",
       "</style>\n",
       "<table border=\"1\" class=\"dataframe\">\n",
       "  <thead>\n",
       "    <tr style=\"text-align: right;\">\n",
       "      <th></th>\n",
       "      <th>Name</th>\n",
       "      <th>Price</th>\n",
       "      <th>Quantity</th>\n",
       "      <th>Total</th>\n",
       "    </tr>\n",
       "  </thead>\n",
       "  <tbody>\n",
       "    <tr>\n",
       "      <th>0</th>\n",
       "      <td>Name</td>\n",
       "      <td>Price</td>\n",
       "      <td>Quantity</td>\n",
       "      <td>Total</td>\n",
       "    </tr>\n",
       "    <tr>\n",
       "      <th>1</th>\n",
       "      <td>ghghg</td>\n",
       "      <td>55.0</td>\n",
       "      <td>6.0</td>\n",
       "      <td>330.0</td>\n",
       "    </tr>\n",
       "    <tr>\n",
       "      <th>2</th>\n",
       "      <td>hgh</td>\n",
       "      <td>4.0</td>\n",
       "      <td>5.0</td>\n",
       "      <td>20.0</td>\n",
       "    </tr>\n",
       "  </tbody>\n",
       "</table>\n",
       "</div>"
      ],
      "text/plain": [
       "    Name  Price  Quantity   Total\n",
       "0   Name  Price  Quantity   Total\n",
       "1  ghghg   55.0       6.0  330.0 \n",
       "2    hgh    4.0       5.0   20.0 "
      ]
     },
     "execution_count": 9,
     "metadata": {},
     "output_type": "execute_result"
    }
   ],
   "source": [
    "import pandas as pd\n",
    "df=pd.read_csv('bill1.csv')\n",
    "df"
   ]
  },
  {
   "cell_type": "code",
   "execution_count": 2,
   "id": "f429c306",
   "metadata": {},
   "outputs": [
    {
     "name": "stdout",
     "output_type": "stream",
     "text": [
      "the file is already there!\n"
     ]
    }
   ],
   "source": [
    "try:\n",
    "    file=open('data.csv','x')\n",
    "    file.close()\n",
    "except:\n",
    "    print(\"the file is already there!\")"
   ]
  },
  {
   "cell_type": "code",
   "execution_count": 4,
   "id": "e8a15357",
   "metadata": {},
   "outputs": [
    {
     "data": {
      "text/html": [
       "<div>\n",
       "<style scoped>\n",
       "    .dataframe tbody tr th:only-of-type {\n",
       "        vertical-align: middle;\n",
       "    }\n",
       "\n",
       "    .dataframe tbody tr th {\n",
       "        vertical-align: top;\n",
       "    }\n",
       "\n",
       "    .dataframe thead th {\n",
       "        text-align: right;\n",
       "    }\n",
       "</style>\n",
       "<table border=\"1\" class=\"dataframe\">\n",
       "  <thead>\n",
       "    <tr style=\"text-align: right;\">\n",
       "      <th></th>\n",
       "      <th>sn</th>\n",
       "      <th>name</th>\n",
       "      <th>age</th>\n",
       "      <th>add</th>\n",
       "      <th>phone</th>\n",
       "    </tr>\n",
       "  </thead>\n",
       "  <tbody>\n",
       "    <tr>\n",
       "      <th>0</th>\n",
       "      <td>1</td>\n",
       "      <td>Ram</td>\n",
       "      <td>34</td>\n",
       "      <td>kathmandu</td>\n",
       "      <td>9863329863</td>\n",
       "    </tr>\n",
       "    <tr>\n",
       "      <th>1</th>\n",
       "      <td>2</td>\n",
       "      <td>Shyam</td>\n",
       "      <td>67</td>\n",
       "      <td>lalitpur</td>\n",
       "      <td>9887653672</td>\n",
       "    </tr>\n",
       "    <tr>\n",
       "      <th>2</th>\n",
       "      <td>3</td>\n",
       "      <td>Hari</td>\n",
       "      <td>89</td>\n",
       "      <td>bhaktapur</td>\n",
       "      <td>9853652778</td>\n",
       "    </tr>\n",
       "    <tr>\n",
       "      <th>3</th>\n",
       "      <td>4</td>\n",
       "      <td>Sita</td>\n",
       "      <td>78</td>\n",
       "      <td>gorkha</td>\n",
       "      <td>9889776656</td>\n",
       "    </tr>\n",
       "    <tr>\n",
       "      <th>4</th>\n",
       "      <td>5</td>\n",
       "      <td>Gita</td>\n",
       "      <td>45</td>\n",
       "      <td>butwal</td>\n",
       "      <td>98777656</td>\n",
       "    </tr>\n",
       "    <tr>\n",
       "      <th>5</th>\n",
       "      <td>6</td>\n",
       "      <td>Nabin</td>\n",
       "      <td>87</td>\n",
       "      <td>gorkha</td>\n",
       "      <td>974783748</td>\n",
       "    </tr>\n",
       "  </tbody>\n",
       "</table>\n",
       "</div>"
      ],
      "text/plain": [
       "   sn   name  age        add       phone\n",
       "0   1    Ram   34  kathmandu  9863329863\n",
       "1   2  Shyam   67   lalitpur  9887653672\n",
       "2   3   Hari   89  bhaktapur  9853652778\n",
       "3   4   Sita   78     gorkha  9889776656\n",
       "4   5   Gita   45     butwal    98777656\n",
       "5   6  Nabin   87     gorkha   974783748"
      ]
     },
     "execution_count": 4,
     "metadata": {},
     "output_type": "execute_result"
    }
   ],
   "source": [
    "import pandas as pd\n",
    "df=pd.read_csv('data.csv',nrows=6)\n",
    "df"
   ]
  },
  {
   "cell_type": "code",
   "execution_count": 11,
   "id": "82373e3d",
   "metadata": {},
   "outputs": [
    {
     "data": {
      "text/html": [
       "<div>\n",
       "<style scoped>\n",
       "    .dataframe tbody tr th:only-of-type {\n",
       "        vertical-align: middle;\n",
       "    }\n",
       "\n",
       "    .dataframe tbody tr th {\n",
       "        vertical-align: top;\n",
       "    }\n",
       "\n",
       "    .dataframe thead th {\n",
       "        text-align: right;\n",
       "    }\n",
       "</style>\n",
       "<table border=\"1\" class=\"dataframe\">\n",
       "  <thead>\n",
       "    <tr style=\"text-align: right;\">\n",
       "      <th></th>\n",
       "      <th>sn</th>\n",
       "      <th>name</th>\n",
       "      <th>age</th>\n",
       "      <th>add</th>\n",
       "      <th>phone</th>\n",
       "    </tr>\n",
       "  </thead>\n",
       "  <tbody>\n",
       "    <tr>\n",
       "      <th>0</th>\n",
       "      <td>1</td>\n",
       "      <td>Ram</td>\n",
       "      <td>34</td>\n",
       "      <td>kathmandu</td>\n",
       "      <td>9863329863</td>\n",
       "    </tr>\n",
       "    <tr>\n",
       "      <th>1</th>\n",
       "      <td>2</td>\n",
       "      <td>Shyam</td>\n",
       "      <td>67</td>\n",
       "      <td>lalitpur</td>\n",
       "      <td>9887653672</td>\n",
       "    </tr>\n",
       "    <tr>\n",
       "      <th>2</th>\n",
       "      <td>3</td>\n",
       "      <td>Hari</td>\n",
       "      <td>89</td>\n",
       "      <td>bhaktapur</td>\n",
       "      <td>9853652778</td>\n",
       "    </tr>\n",
       "    <tr>\n",
       "      <th>3</th>\n",
       "      <td>4</td>\n",
       "      <td>Sita</td>\n",
       "      <td>78</td>\n",
       "      <td>gorkha</td>\n",
       "      <td>9889776656</td>\n",
       "    </tr>\n",
       "  </tbody>\n",
       "</table>\n",
       "</div>"
      ],
      "text/plain": [
       "   sn   name  age        add       phone\n",
       "0   1    Ram   34  kathmandu  9863329863\n",
       "1   2  Shyam   67   lalitpur  9887653672\n",
       "2   3   Hari   89  bhaktapur  9853652778\n",
       "3   4   Sita   78     gorkha  9889776656"
      ]
     },
     "execution_count": 11,
     "metadata": {},
     "output_type": "execute_result"
    }
   ],
   "source": [
    "import pandas as pd\n",
    "df=pd.read_csv('data.csv')\n",
    "df.head(4)\n",
    "\n",
    "#df.tail()\n"
   ]
  },
  {
   "cell_type": "code",
   "execution_count": 13,
   "id": "3732a1ec",
   "metadata": {},
   "outputs": [
    {
     "data": {
      "text/html": [
       "<div>\n",
       "<style scoped>\n",
       "    .dataframe tbody tr th:only-of-type {\n",
       "        vertical-align: middle;\n",
       "    }\n",
       "\n",
       "    .dataframe tbody tr th {\n",
       "        vertical-align: top;\n",
       "    }\n",
       "\n",
       "    .dataframe thead th {\n",
       "        text-align: right;\n",
       "    }\n",
       "</style>\n",
       "<table border=\"1\" class=\"dataframe\">\n",
       "  <thead>\n",
       "    <tr style=\"text-align: right;\">\n",
       "      <th></th>\n",
       "      <th>name</th>\n",
       "      <th>age</th>\n",
       "      <th>add</th>\n",
       "      <th>phone</th>\n",
       "    </tr>\n",
       "    <tr>\n",
       "      <th>sn</th>\n",
       "      <th></th>\n",
       "      <th></th>\n",
       "      <th></th>\n",
       "      <th></th>\n",
       "    </tr>\n",
       "  </thead>\n",
       "  <tbody>\n",
       "    <tr>\n",
       "      <th>1</th>\n",
       "      <td>Ram</td>\n",
       "      <td>34</td>\n",
       "      <td>kathmandu</td>\n",
       "      <td>9863329863</td>\n",
       "    </tr>\n",
       "    <tr>\n",
       "      <th>2</th>\n",
       "      <td>Shyam</td>\n",
       "      <td>67</td>\n",
       "      <td>lalitpur</td>\n",
       "      <td>9887653672</td>\n",
       "    </tr>\n",
       "    <tr>\n",
       "      <th>3</th>\n",
       "      <td>Hari</td>\n",
       "      <td>89</td>\n",
       "      <td>bhaktapur</td>\n",
       "      <td>9853652778</td>\n",
       "    </tr>\n",
       "    <tr>\n",
       "      <th>4</th>\n",
       "      <td>Sita</td>\n",
       "      <td>78</td>\n",
       "      <td>gorkha</td>\n",
       "      <td>9889776656</td>\n",
       "    </tr>\n",
       "  </tbody>\n",
       "</table>\n",
       "</div>"
      ],
      "text/plain": [
       "     name  age        add       phone\n",
       "sn                                   \n",
       "1     Ram   34  kathmandu  9863329863\n",
       "2   Shyam   67   lalitpur  9887653672\n",
       "3    Hari   89  bhaktapur  9853652778\n",
       "4    Sita   78     gorkha  9889776656"
      ]
     },
     "execution_count": 13,
     "metadata": {},
     "output_type": "execute_result"
    }
   ],
   "source": [
    "import pandas as pd\n",
    "df=pd.read_csv('data.csv',index_col='sn')\n",
    "df.head(4)\n",
    "#df.tail()"
   ]
  },
  {
   "cell_type": "code",
   "execution_count": 14,
   "id": "a7cc8191",
   "metadata": {},
   "outputs": [
    {
     "data": {
      "text/html": [
       "<div>\n",
       "<style scoped>\n",
       "    .dataframe tbody tr th:only-of-type {\n",
       "        vertical-align: middle;\n",
       "    }\n",
       "\n",
       "    .dataframe tbody tr th {\n",
       "        vertical-align: top;\n",
       "    }\n",
       "\n",
       "    .dataframe thead th {\n",
       "        text-align: right;\n",
       "    }\n",
       "</style>\n",
       "<table border=\"1\" class=\"dataframe\">\n",
       "  <thead>\n",
       "    <tr style=\"text-align: right;\">\n",
       "      <th></th>\n",
       "      <th>sn</th>\n",
       "      <th>name</th>\n",
       "      <th>phone</th>\n",
       "    </tr>\n",
       "  </thead>\n",
       "  <tbody>\n",
       "    <tr>\n",
       "      <th>0</th>\n",
       "      <td>1</td>\n",
       "      <td>Ram</td>\n",
       "      <td>9863329863</td>\n",
       "    </tr>\n",
       "    <tr>\n",
       "      <th>1</th>\n",
       "      <td>2</td>\n",
       "      <td>Shyam</td>\n",
       "      <td>9887653672</td>\n",
       "    </tr>\n",
       "    <tr>\n",
       "      <th>2</th>\n",
       "      <td>3</td>\n",
       "      <td>Hari</td>\n",
       "      <td>9853652778</td>\n",
       "    </tr>\n",
       "    <tr>\n",
       "      <th>3</th>\n",
       "      <td>4</td>\n",
       "      <td>Sita</td>\n",
       "      <td>9889776656</td>\n",
       "    </tr>\n",
       "    <tr>\n",
       "      <th>4</th>\n",
       "      <td>5</td>\n",
       "      <td>Gita</td>\n",
       "      <td>98777656</td>\n",
       "    </tr>\n",
       "    <tr>\n",
       "      <th>5</th>\n",
       "      <td>6</td>\n",
       "      <td>Nabin</td>\n",
       "      <td>974783748</td>\n",
       "    </tr>\n",
       "  </tbody>\n",
       "</table>\n",
       "</div>"
      ],
      "text/plain": [
       "   sn   name       phone\n",
       "0   1    Ram  9863329863\n",
       "1   2  Shyam  9887653672\n",
       "2   3   Hari  9853652778\n",
       "3   4   Sita  9889776656\n",
       "4   5   Gita    98777656\n",
       "5   6  Nabin   974783748"
      ]
     },
     "execution_count": 14,
     "metadata": {},
     "output_type": "execute_result"
    }
   ],
   "source": [
    "df=pd.read_csv('data.csv',usecols=['sn','name','phone'])\n",
    "df"
   ]
  },
  {
   "cell_type": "code",
   "execution_count": 15,
   "id": "155677dd",
   "metadata": {},
   "outputs": [
    {
     "data": {
      "text/html": [
       "<div>\n",
       "<style scoped>\n",
       "    .dataframe tbody tr th:only-of-type {\n",
       "        vertical-align: middle;\n",
       "    }\n",
       "\n",
       "    .dataframe tbody tr th {\n",
       "        vertical-align: top;\n",
       "    }\n",
       "\n",
       "    .dataframe thead th {\n",
       "        text-align: right;\n",
       "    }\n",
       "</style>\n",
       "<table border=\"1\" class=\"dataframe\">\n",
       "  <thead>\n",
       "    <tr style=\"text-align: right;\">\n",
       "      <th></th>\n",
       "      <th>sn</th>\n",
       "      <th>name</th>\n",
       "      <th>age</th>\n",
       "      <th>add</th>\n",
       "      <th>phone</th>\n",
       "    </tr>\n",
       "  </thead>\n",
       "  <tbody>\n",
       "    <tr>\n",
       "      <th>2</th>\n",
       "      <td>3</td>\n",
       "      <td>Hari</td>\n",
       "      <td>89</td>\n",
       "      <td>bhaktapur</td>\n",
       "      <td>9853652778</td>\n",
       "    </tr>\n",
       "    <tr>\n",
       "      <th>3</th>\n",
       "      <td>4</td>\n",
       "      <td>Sita</td>\n",
       "      <td>78</td>\n",
       "      <td>gorkha</td>\n",
       "      <td>9889776656</td>\n",
       "    </tr>\n",
       "    <tr>\n",
       "      <th>4</th>\n",
       "      <td>5</td>\n",
       "      <td>Gita</td>\n",
       "      <td>45</td>\n",
       "      <td>butwal</td>\n",
       "      <td>98777656</td>\n",
       "    </tr>\n",
       "  </tbody>\n",
       "</table>\n",
       "</div>"
      ],
      "text/plain": [
       "   sn  name  age        add       phone\n",
       "2   3  Hari   89  bhaktapur  9853652778\n",
       "3   4  Sita   78     gorkha  9889776656\n",
       "4   5  Gita   45     butwal    98777656"
      ]
     },
     "execution_count": 15,
     "metadata": {},
     "output_type": "execute_result"
    }
   ],
   "source": [
    "#iloc\n",
    "import pandas as pd\n",
    "df=pd.read_csv('data.csv')\n",
    "df.iloc[2:5]\n"
   ]
  },
  {
   "cell_type": "code",
   "execution_count": 16,
   "id": "3aac2a93",
   "metadata": {},
   "outputs": [
    {
     "data": {
      "text/html": [
       "<div>\n",
       "<style scoped>\n",
       "    .dataframe tbody tr th:only-of-type {\n",
       "        vertical-align: middle;\n",
       "    }\n",
       "\n",
       "    .dataframe tbody tr th {\n",
       "        vertical-align: top;\n",
       "    }\n",
       "\n",
       "    .dataframe thead th {\n",
       "        text-align: right;\n",
       "    }\n",
       "</style>\n",
       "<table border=\"1\" class=\"dataframe\">\n",
       "  <thead>\n",
       "    <tr style=\"text-align: right;\">\n",
       "      <th></th>\n",
       "      <th>sn</th>\n",
       "      <th>name</th>\n",
       "      <th>age</th>\n",
       "      <th>add</th>\n",
       "    </tr>\n",
       "  </thead>\n",
       "  <tbody>\n",
       "    <tr>\n",
       "      <th>2</th>\n",
       "      <td>3</td>\n",
       "      <td>Hari</td>\n",
       "      <td>89</td>\n",
       "      <td>bhaktapur</td>\n",
       "    </tr>\n",
       "    <tr>\n",
       "      <th>3</th>\n",
       "      <td>4</td>\n",
       "      <td>Sita</td>\n",
       "      <td>78</td>\n",
       "      <td>gorkha</td>\n",
       "    </tr>\n",
       "    <tr>\n",
       "      <th>4</th>\n",
       "      <td>5</td>\n",
       "      <td>Gita</td>\n",
       "      <td>45</td>\n",
       "      <td>butwal</td>\n",
       "    </tr>\n",
       "  </tbody>\n",
       "</table>\n",
       "</div>"
      ],
      "text/plain": [
       "   sn  name  age        add\n",
       "2   3  Hari   89  bhaktapur\n",
       "3   4  Sita   78     gorkha\n",
       "4   5  Gita   45     butwal"
      ]
     },
     "execution_count": 16,
     "metadata": {},
     "output_type": "execute_result"
    }
   ],
   "source": [
    "import pandas as pd\n",
    "df=pd.read_csv('data.csv')\n",
    "df.iloc[2:5,0:4]"
   ]
  },
  {
   "cell_type": "code",
   "execution_count": 18,
   "id": "94256d62",
   "metadata": {},
   "outputs": [
    {
     "data": {
      "text/html": [
       "<div>\n",
       "<style scoped>\n",
       "    .dataframe tbody tr th:only-of-type {\n",
       "        vertical-align: middle;\n",
       "    }\n",
       "\n",
       "    .dataframe tbody tr th {\n",
       "        vertical-align: top;\n",
       "    }\n",
       "\n",
       "    .dataframe thead th {\n",
       "        text-align: right;\n",
       "    }\n",
       "</style>\n",
       "<table border=\"1\" class=\"dataframe\">\n",
       "  <thead>\n",
       "    <tr style=\"text-align: right;\">\n",
       "      <th></th>\n",
       "      <th>name</th>\n",
       "      <th>age</th>\n",
       "      <th>add</th>\n",
       "      <th>phone</th>\n",
       "    </tr>\n",
       "    <tr>\n",
       "      <th>sn</th>\n",
       "      <th></th>\n",
       "      <th></th>\n",
       "      <th></th>\n",
       "      <th></th>\n",
       "    </tr>\n",
       "  </thead>\n",
       "  <tbody>\n",
       "    <tr>\n",
       "      <th>2</th>\n",
       "      <td>Shyam</td>\n",
       "      <td>67</td>\n",
       "      <td>lalitpur</td>\n",
       "      <td>9887653672</td>\n",
       "    </tr>\n",
       "    <tr>\n",
       "      <th>3</th>\n",
       "      <td>Hari</td>\n",
       "      <td>89</td>\n",
       "      <td>bhaktapur</td>\n",
       "      <td>9853652778</td>\n",
       "    </tr>\n",
       "    <tr>\n",
       "      <th>4</th>\n",
       "      <td>Sita</td>\n",
       "      <td>78</td>\n",
       "      <td>gorkha</td>\n",
       "      <td>9889776656</td>\n",
       "    </tr>\n",
       "    <tr>\n",
       "      <th>5</th>\n",
       "      <td>Gita</td>\n",
       "      <td>45</td>\n",
       "      <td>butwal</td>\n",
       "      <td>98777656</td>\n",
       "    </tr>\n",
       "  </tbody>\n",
       "</table>\n",
       "</div>"
      ],
      "text/plain": [
       "     name  age        add       phone\n",
       "sn                                   \n",
       "2   Shyam   67   lalitpur  9887653672\n",
       "3    Hari   89  bhaktapur  9853652778\n",
       "4    Sita   78     gorkha  9889776656\n",
       "5    Gita   45     butwal    98777656"
      ]
     },
     "execution_count": 18,
     "metadata": {},
     "output_type": "execute_result"
    }
   ],
   "source": [
    "#loc\n",
    "df=pd.read_csv('data.csv',index_col='sn')\n",
    "df.loc[2:5]"
   ]
  },
  {
   "cell_type": "code",
   "execution_count": 22,
   "id": "39532969",
   "metadata": {},
   "outputs": [
    {
     "data": {
      "text/html": [
       "<div>\n",
       "<style scoped>\n",
       "    .dataframe tbody tr th:only-of-type {\n",
       "        vertical-align: middle;\n",
       "    }\n",
       "\n",
       "    .dataframe tbody tr th {\n",
       "        vertical-align: top;\n",
       "    }\n",
       "\n",
       "    .dataframe thead th {\n",
       "        text-align: right;\n",
       "    }\n",
       "</style>\n",
       "<table border=\"1\" class=\"dataframe\">\n",
       "  <thead>\n",
       "    <tr style=\"text-align: right;\">\n",
       "      <th></th>\n",
       "      <th>sn</th>\n",
       "      <th>age</th>\n",
       "      <th>add</th>\n",
       "      <th>phone</th>\n",
       "    </tr>\n",
       "    <tr>\n",
       "      <th>name</th>\n",
       "      <th></th>\n",
       "      <th></th>\n",
       "      <th></th>\n",
       "      <th></th>\n",
       "    </tr>\n",
       "  </thead>\n",
       "  <tbody>\n",
       "    <tr>\n",
       "      <th>Hari</th>\n",
       "      <td>3</td>\n",
       "      <td>89</td>\n",
       "      <td>bhaktapur</td>\n",
       "      <td>9853652778</td>\n",
       "    </tr>\n",
       "    <tr>\n",
       "      <th>Sita</th>\n",
       "      <td>4</td>\n",
       "      <td>78</td>\n",
       "      <td>gorkha</td>\n",
       "      <td>9889776656</td>\n",
       "    </tr>\n",
       "  </tbody>\n",
       "</table>\n",
       "</div>"
      ],
      "text/plain": [
       "      sn  age        add       phone\n",
       "name                                \n",
       "Hari   3   89  bhaktapur  9853652778\n",
       "Sita   4   78     gorkha  9889776656"
      ]
     },
     "execution_count": 22,
     "metadata": {},
     "output_type": "execute_result"
    }
   ],
   "source": [
    "#loc\n",
    "df=pd.read_csv('data.csv',index_col='name')\n",
    "df.loc['Hari':'Sita']"
   ]
  },
  {
   "cell_type": "code",
   "execution_count": 23,
   "id": "72c3a913",
   "metadata": {},
   "outputs": [
    {
     "data": {
      "text/plain": [
       "0      Ram\n",
       "1    Shyam\n",
       "2     Hari\n",
       "3     Sita\n",
       "4     Gita\n",
       "5    Nabin\n",
       "Name: name, dtype: object"
      ]
     },
     "execution_count": 23,
     "metadata": {},
     "output_type": "execute_result"
    }
   ],
   "source": [
    "#filter\n",
    "df=pd.read_csv('data.csv')\n",
    "df['name']"
   ]
  },
  {
   "cell_type": "code",
   "execution_count": 26,
   "id": "709235ef",
   "metadata": {},
   "outputs": [
    {
     "data": {
      "text/plain": [
       "0     True\n",
       "1    False\n",
       "2    False\n",
       "3    False\n",
       "4    False\n",
       "5    False\n",
       "Name: name, dtype: bool"
      ]
     },
     "execution_count": 26,
     "metadata": {},
     "output_type": "execute_result"
    }
   ],
   "source": [
    "df['name']=='Ram'"
   ]
  },
  {
   "cell_type": "code",
   "execution_count": 31,
   "id": "62099411",
   "metadata": {},
   "outputs": [
    {
     "data": {
      "text/html": [
       "<div>\n",
       "<style scoped>\n",
       "    .dataframe tbody tr th:only-of-type {\n",
       "        vertical-align: middle;\n",
       "    }\n",
       "\n",
       "    .dataframe tbody tr th {\n",
       "        vertical-align: top;\n",
       "    }\n",
       "\n",
       "    .dataframe thead th {\n",
       "        text-align: right;\n",
       "    }\n",
       "</style>\n",
       "<table border=\"1\" class=\"dataframe\">\n",
       "  <thead>\n",
       "    <tr style=\"text-align: right;\">\n",
       "      <th></th>\n",
       "      <th>sn</th>\n",
       "      <th>name</th>\n",
       "      <th>age</th>\n",
       "      <th>add</th>\n",
       "      <th>phone</th>\n",
       "    </tr>\n",
       "  </thead>\n",
       "  <tbody>\n",
       "    <tr>\n",
       "      <th>2</th>\n",
       "      <td>3</td>\n",
       "      <td>Hari</td>\n",
       "      <td>89</td>\n",
       "      <td>bhaktapur</td>\n",
       "      <td>9853652778</td>\n",
       "    </tr>\n",
       "    <tr>\n",
       "      <th>3</th>\n",
       "      <td>4</td>\n",
       "      <td>Sita</td>\n",
       "      <td>78</td>\n",
       "      <td>gorkha</td>\n",
       "      <td>9889776656</td>\n",
       "    </tr>\n",
       "    <tr>\n",
       "      <th>5</th>\n",
       "      <td>6</td>\n",
       "      <td>Nabin</td>\n",
       "      <td>87</td>\n",
       "      <td>gorkha</td>\n",
       "      <td>974783748</td>\n",
       "    </tr>\n",
       "  </tbody>\n",
       "</table>\n",
       "</div>"
      ],
      "text/plain": [
       "   sn   name  age        add       phone\n",
       "2   3   Hari   89  bhaktapur  9853652778\n",
       "3   4   Sita   78     gorkha  9889776656\n",
       "5   6  Nabin   87     gorkha   974783748"
      ]
     },
     "execution_count": 31,
     "metadata": {},
     "output_type": "execute_result"
    }
   ],
   "source": [
    "df[df['age']>=70]"
   ]
  },
  {
   "cell_type": "code",
   "execution_count": 34,
   "id": "30c68c9d",
   "metadata": {},
   "outputs": [
    {
     "data": {
      "text/html": [
       "<div>\n",
       "<style scoped>\n",
       "    .dataframe tbody tr th:only-of-type {\n",
       "        vertical-align: middle;\n",
       "    }\n",
       "\n",
       "    .dataframe tbody tr th {\n",
       "        vertical-align: top;\n",
       "    }\n",
       "\n",
       "    .dataframe thead th {\n",
       "        text-align: right;\n",
       "    }\n",
       "</style>\n",
       "<table border=\"1\" class=\"dataframe\">\n",
       "  <thead>\n",
       "    <tr style=\"text-align: right;\">\n",
       "      <th></th>\n",
       "      <th>sn</th>\n",
       "      <th>name</th>\n",
       "      <th>age</th>\n",
       "      <th>add</th>\n",
       "      <th>phone</th>\n",
       "    </tr>\n",
       "  </thead>\n",
       "  <tbody>\n",
       "    <tr>\n",
       "      <th>0</th>\n",
       "      <td>1</td>\n",
       "      <td>Ram</td>\n",
       "      <td>34</td>\n",
       "      <td>kathmandu</td>\n",
       "      <td>9863329863</td>\n",
       "    </tr>\n",
       "  </tbody>\n",
       "</table>\n",
       "</div>"
      ],
      "text/plain": [
       "   sn name  age        add       phone\n",
       "0   1  Ram   34  kathmandu  9863329863"
      ]
     },
     "execution_count": 34,
     "metadata": {},
     "output_type": "execute_result"
    }
   ],
   "source": [
    "df[(df['age']>=20) & (df['add']=='kathmandu')]"
   ]
  },
  {
   "cell_type": "code",
   "execution_count": 2,
   "id": "11bc8fd1",
   "metadata": {},
   "outputs": [
    {
     "data": {
      "text/html": [
       "<div>\n",
       "<style scoped>\n",
       "    .dataframe tbody tr th:only-of-type {\n",
       "        vertical-align: middle;\n",
       "    }\n",
       "\n",
       "    .dataframe tbody tr th {\n",
       "        vertical-align: top;\n",
       "    }\n",
       "\n",
       "    .dataframe thead th {\n",
       "        text-align: right;\n",
       "    }\n",
       "</style>\n",
       "<table border=\"1\" class=\"dataframe\">\n",
       "  <thead>\n",
       "    <tr style=\"text-align: right;\">\n",
       "      <th></th>\n",
       "      <th>sn</th>\n",
       "      <th>age</th>\n",
       "      <th>add</th>\n",
       "      <th>phone</th>\n",
       "    </tr>\n",
       "    <tr>\n",
       "      <th>name</th>\n",
       "      <th></th>\n",
       "      <th></th>\n",
       "      <th></th>\n",
       "      <th></th>\n",
       "    </tr>\n",
       "  </thead>\n",
       "  <tbody>\n",
       "    <tr>\n",
       "      <th>Ram</th>\n",
       "      <td>1</td>\n",
       "      <td>34</td>\n",
       "      <td>kathmandu</td>\n",
       "      <td>9863329863</td>\n",
       "    </tr>\n",
       "    <tr>\n",
       "      <th>Shyam</th>\n",
       "      <td>2</td>\n",
       "      <td>67</td>\n",
       "      <td>lalitpur</td>\n",
       "      <td>9887653672</td>\n",
       "    </tr>\n",
       "    <tr>\n",
       "      <th>Hari</th>\n",
       "      <td>3</td>\n",
       "      <td>89</td>\n",
       "      <td>bhaktapur</td>\n",
       "      <td>9853652778</td>\n",
       "    </tr>\n",
       "    <tr>\n",
       "      <th>Sita</th>\n",
       "      <td>4</td>\n",
       "      <td>78</td>\n",
       "      <td>gorkha</td>\n",
       "      <td>9889776656</td>\n",
       "    </tr>\n",
       "    <tr>\n",
       "      <th>Gita</th>\n",
       "      <td>5</td>\n",
       "      <td>45</td>\n",
       "      <td>butwal</td>\n",
       "      <td>98777656</td>\n",
       "    </tr>\n",
       "  </tbody>\n",
       "</table>\n",
       "</div>"
      ],
      "text/plain": [
       "       sn  age        add       phone\n",
       "name                                 \n",
       "Ram     1   34  kathmandu  9863329863\n",
       "Shyam   2   67   lalitpur  9887653672\n",
       "Hari    3   89  bhaktapur  9853652778\n",
       "Sita    4   78     gorkha  9889776656\n",
       "Gita    5   45     butwal    98777656"
      ]
     },
     "execution_count": 2,
     "metadata": {},
     "output_type": "execute_result"
    }
   ],
   "source": [
    "import pandas as pd\n",
    "df=pd.read_csv('data.csv',index_col='name')\n",
    "df.loc['Ram':'Gita']"
   ]
  },
  {
   "cell_type": "code",
   "execution_count": null,
   "id": "e0470634",
   "metadata": {},
   "outputs": [],
   "source": []
  }
 ],
 "metadata": {
  "kernelspec": {
   "display_name": "Python 3 (ipykernel)",
   "language": "python",
   "name": "python3"
  },
  "language_info": {
   "codemirror_mode": {
    "name": "ipython",
    "version": 3
   },
   "file_extension": ".py",
   "mimetype": "text/x-python",
   "name": "python",
   "nbconvert_exporter": "python",
   "pygments_lexer": "ipython3",
   "version": "3.11.5"
  }
 },
 "nbformat": 4,
 "nbformat_minor": 5
}
