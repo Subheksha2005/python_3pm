{
 "cells": [
  {
   "cell_type": "code",
   "execution_count": 4,
   "id": "1f0203c6",
   "metadata": {},
   "outputs": [],
   "source": [
    "import mysql.connector\n",
    "#importing database\n",
    "database = mysql.connector.connect(\n",
    "    host=\"localhost\",\n",
    "    user=\"root\",\n",
    "    password=\"\",\n",
    "    database=\"python 3pm\"\n",
    ")\n",
    "db = database.cursor()\n"
   ]
  },
  {
   "cell_type": "code",
   "execution_count": 5,
   "id": "58adfcad",
   "metadata": {},
   "outputs": [
    {
     "name": "stdout",
     "output_type": "stream",
     "text": [
      "(1, 'Rama', 89, 98, 85, 67, 89, 420, 82.5, 'A')\n",
      "(3, 'Nabin', 82, 84, 85, 98, 89, 430, 88.5, 'A')\n",
      "(4, 'Shiva', 49, 57, 25, 98, 89, 400, 70.0, 'A')\n",
      "(8, 'Ram', 78, 79, 93, 67, 78, 415, 83.5, 'A')\n",
      "(10, 'Sameer', 89, 67, 80, 98, 89, 412, 82.5, 'A')\n",
      "(11, 'Rama', 89, 45, 65, 87, 78, 364, 72.8, 'B')\n",
      "(12, 'Ram', 87, 90, 65, 78, 87, 407, 81.4, 'A')\n",
      "(13, 'Gauri', 98, 78, 90, 87, 78, 431, 86.2, 'A')\n",
      "(15, 'Hari', 78, 67, 89, 98, 56, 415, 85.0, 'B')\n",
      "(17, 'Hari', 78, 67, 89, 98, 56, 415, 85.0, 'B')\n",
      "(40, 'Hari', 89, 89, 89, 78, 87, 412, 83.0, 'A')\n"
     ]
    }
   ],
   "source": [
    "db.execute(\"SELECT * FROM student\")\n",
    "result =db.fetchall()\n",
    "for x in result:\n",
    "    print(x)"
   ]
  },
  {
   "cell_type": "code",
   "execution_count": 6,
   "id": "ea0afafb",
   "metadata": {},
   "outputs": [
    {
     "name": "stdout",
     "output_type": "stream",
     "text": [
      "(1, 'Rama', 420, 'A')\n",
      "(3, 'Nabin', 430, 'A')\n",
      "(4, 'Shiva', 400, 'A')\n",
      "(8, 'Ram', 415, 'A')\n",
      "(10, 'Sameer', 412, 'A')\n",
      "(11, 'Rama', 364, 'B')\n",
      "(12, 'Ram', 407, 'A')\n",
      "(13, 'Gauri', 431, 'A')\n",
      "(15, 'Hari', 415, 'B')\n",
      "(17, 'Hari', 415, 'B')\n",
      "(40, 'Hari', 412, 'A')\n"
     ]
    }
   ],
   "source": [
    "db.execute(\"SELECT sn,name,total,grade FROM student\")\n",
    "result =db.fetchall()\n",
    "for x in result:\n",
    "    print(x)"
   ]
  },
  {
   "cell_type": "code",
   "execution_count": 7,
   "id": "7597ff7a",
   "metadata": {},
   "outputs": [
    {
     "name": "stdout",
     "output_type": "stream",
     "text": [
      "(1, 'Rama', 89, 98, 85, 67, 89, 420, 82.5, 'A')\n",
      "(3, 'Nabin', 82, 84, 85, 98, 89, 430, 88.5, 'A')\n",
      "(4, 'Shiva', 49, 57, 25, 98, 89, 400, 70.0, 'A')\n",
      "(8, 'Ram', 78, 79, 93, 67, 78, 415, 83.5, 'A')\n",
      "(10, 'Sameer', 89, 67, 80, 98, 89, 412, 82.5, 'A')\n",
      "(12, 'Ram', 87, 90, 65, 78, 87, 407, 81.4, 'A')\n",
      "(13, 'Gauri', 98, 78, 90, 87, 78, 431, 86.2, 'A')\n",
      "(40, 'Hari', 89, 89, 89, 78, 87, 412, 83.0, 'A')\n"
     ]
    }
   ],
   "source": [
    "db.execute(\"SELECT * FROM student WHERE grade='A' \")\n",
    "result =db.fetchall()\n",
    "for x in result:\n",
    "    print(x)"
   ]
  },
  {
   "cell_type": "code",
   "execution_count": 10,
   "id": "6a1caaef",
   "metadata": {},
   "outputs": [],
   "source": [
    "#insert\n",
    "sql='''INSERT INTO `student` (`sn`, `name`, `physics`, `chemistry`, `math`, `english`, `nepali`, `total`, `per`, `grade`) \n",
    "VALUES ('18', 'Hari', '78', '67', '89', '98', '56', '415', '85', 'B');'''\n",
    "db.execute(sql)\n",
    "database.commit()"
   ]
  },
  {
   "cell_type": "code",
   "execution_count": 20,
   "id": "e421ef4e",
   "metadata": {},
   "outputs": [
    {
     "name": "stdout",
     "output_type": "stream",
     "text": [
      "Enter name: subheksha\n",
      "Enter sn: 100\n",
      "Enter physics marks: 100\n",
      "Enter chemistry marks: 100\n",
      "Enter math marks: 100\n",
      "Enter english marks: 100\n",
      "Enter nepali marks: 100\n"
     ]
    }
   ],
   "source": [
    "name = input(\"Enter name: \")\n",
    "sn = int(input(\"Enter sn: \"))\n",
    "physics = int(input(\"Enter physics marks: \"))\n",
    "chemistry = int(input(\"Enter chemistry marks: \"))\n",
    "math = int(input(\"Enter math marks: \"))\n",
    "english = int(input(\"Enter english marks: \"))\n",
    "nepali = int(input(\"Enter nepali marks: \"))\n",
    "\n",
    "total = physics + chemistry + math + english + nepali\n",
    "per = total / 5\n",
    "\n",
    "if per >= 80: \n",
    "    grade = \"A\"\n",
    "elif per >= 60 :\n",
    "    grade = \"B\"\n",
    "elif per >= 45:\n",
    "    grade = \"C\"\n",
    "else:\n",
    "    grade = \"F\"\n",
    "    \n",
    "# Assuming you've initialized `db` as your database connection and `database` as your cursor\n",
    "sql = f'''INSERT INTO `student` (`sn`, `name`, `physics`, `chemistry`, `math`, `english`, `nepali`, `total`, `per`, `grade`) \n",
    "         VALUES ('{sn}', '{name}', '{physics}', '{chemistry}', '{math}', '{english}', '{nepali}', '{total}', '{per}', '{grade}');'''\n",
    "         \n",
    "db.execute(sql)\n",
    "database.commit()\n"
   ]
  },
  {
   "cell_type": "code",
   "execution_count": 25,
   "id": "88840cb6",
   "metadata": {},
   "outputs": [],
   "source": [
    "#update\n",
    "sql=\"UPDATE student SET chemistry = 87,physics=90 WHERE sn=1\"\n",
    "db.execute(sql)\n",
    "database.commit()"
   ]
  },
  {
   "cell_type": "code",
   "execution_count": 23,
   "id": "777e02fa",
   "metadata": {},
   "outputs": [
    {
     "name": "stdout",
     "output_type": "stream",
     "text": [
      "enter subject=physics\n",
      "enter marks=100\n",
      "enter sn=1\n"
     ]
    }
   ],
   "source": [
    "#update\n",
    "subject=input(\"enter subject=\")\n",
    "marks=int(input(\"enter marks=\"))\n",
    "sn=int(input(\"enter sn=\"))\n",
    "\n",
    "sql=f\"UPDATE student SET {subject} ={marks} WHERE student.sn={sn}\"\n",
    "db.execute(sql)\n",
    "database.commit()"
   ]
  },
  {
   "cell_type": "code",
   "execution_count": 24,
   "id": "74a7b120",
   "metadata": {},
   "outputs": [
    {
     "name": "stdout",
     "output_type": "stream",
     "text": [
      "UPDATE student SET physics =100 WHERE student.sn=1\n"
     ]
    }
   ],
   "source": [
    "print(sql)"
   ]
  },
  {
   "cell_type": "code",
   "execution_count": 30,
   "id": "ab93debf",
   "metadata": {},
   "outputs": [],
   "source": [
    "#delete\n",
    "sql=\"DELETE FROM student WHERE sn = 100\"\n",
    "db.execute(sql)\n",
    "database.commit()"
   ]
  },
  {
   "cell_type": "code",
   "execution_count": null,
   "id": "f54924cd",
   "metadata": {},
   "outputs": [],
   "source": []
  }
 ],
 "metadata": {
  "kernelspec": {
   "display_name": "Python 3 (ipykernel)",
   "language": "python",
   "name": "python3"
  },
  "language_info": {
   "codemirror_mode": {
    "name": "ipython",
    "version": 3
   },
   "file_extension": ".py",
   "mimetype": "text/x-python",
   "name": "python",
   "nbconvert_exporter": "python",
   "pygments_lexer": "ipython3",
   "version": "3.11.5"
  }
 },
 "nbformat": 4,
 "nbformat_minor": 5
}
